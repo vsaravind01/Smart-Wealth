{
 "cells": [
  {
   "cell_type": "code",
   "metadata": {
    "ExecuteTime": {
     "end_time": "2024-07-31T08:31:23.851008Z",
     "start_time": "2024-07-31T08:31:22.524080Z"
    }
   },
   "source": [
    "import pandas as pd\n",
    "import numpy as np\n",
    "import matplotlib.pyplot as plt\n",
    "import pandas as pd\n",
    "import yfinance as yf\n",
    "import pandas_ta as ta\n",
    "import matplotlib.dates as mdates\n",
    "from datetime import datetime, timedelta"
   ],
   "outputs": [
    {
     "name": "stderr",
     "output_type": "stream",
     "text": [
      "/Users/vsaravind/miniforge3/lib/python3.10/site-packages/pandas/core/arrays/masked.py:60: UserWarning: Pandas requires version '1.3.6' or newer of 'bottleneck' (version '1.3.5' currently installed).\n",
      "  from pandas.core import (\n"
     ]
    }
   ],
   "execution_count": 1
  },
  {
   "metadata": {},
   "cell_type": "code",
   "outputs": [],
   "execution_count": null,
   "source": ""
  },
  {
   "cell_type": "code",
   "metadata": {
    "ExecuteTime": {
     "end_time": "2024-07-31T08:31:23.854711Z",
     "start_time": "2024-07-31T08:31:23.852079Z"
    }
   },
   "source": [
    "tickers = [\n",
    "        \"RELIANCE.NS\", \"TCS.NS\", \"HDFCBANK.NS\", \"INFY.NS\", \"HINDUNILVR.NS\",\n",
    "        \"ICICIBANK.NS\", \"KOTAKBANK.NS\", \"BAJFINANCE.NS\", \"ITC.NS\",\n",
    "        \"BHARTIARTL.NS\", \"ASIANPAINT.NS\", \"LT.NS\", \"AXISBANK.NS\", \"SBIN.NS\",\n",
    "        \"MARUTI.NS\", \"HCLTECH.NS\", \"SUNPHARMA.NS\", \"ULTRACEMCO.NS\", \"NESTLEIND.NS\",\n",
    "        \"TITAN.NS\", \"TATASTEEL.NS\", \"WIPRO.NS\", \"ADANIGREEN.NS\", \"DIVISLAB.NS\",\n",
    "        \"M&M.NS\", \"BAJAJFINSV.NS\", \"POWERGRID.NS\", \"NTPC.NS\", \"GRASIM.NS\",\n",
    "        \"TECHM.NS\", \"ONGC.NS\", \"JSWSTEEL.NS\", \"CIPLA.NS\", \"HEROMOTOCO.NS\",\n",
    "        \"BPCL.NS\", \"ADANIPORTS.NS\", \"SHREECEM.NS\", \"COALINDIA.NS\", \"SBILIFE.NS\",\n",
    "        \"BRITANNIA.NS\", \"EICHERMOT.NS\", \"UPL.NS\", \"DRREDDY.NS\", \"BAJAJ-AUTO.NS\",\n",
    "        \"INDUSINDBK.NS\", \"IOC.NS\", \"HINDALCO.NS\", \"TATACONSUM.NS\", \"VEDL.NS\"\n",
    "    ]"
   ],
   "outputs": [],
   "execution_count": 2
  },
  {
   "cell_type": "code",
   "metadata": {
    "ExecuteTime": {
     "end_time": "2024-07-31T08:31:23.856952Z",
     "start_time": "2024-07-31T08:31:23.855350Z"
    }
   },
   "source": [
    "tickers_dict = dict()\n",
    "\n",
    "for i in tickers:\n",
    "    tickers_dict[i] = dict()"
   ],
   "outputs": [],
   "execution_count": 3
  },
  {
   "cell_type": "code",
   "metadata": {
    "ExecuteTime": {
     "end_time": "2024-07-31T08:31:23.858936Z",
     "start_time": "2024-07-31T08:31:23.857613Z"
    }
   },
   "source": [
    "# tickers_dict"
   ],
   "outputs": [],
   "execution_count": 4
  },
  {
   "cell_type": "code",
   "metadata": {
    "ExecuteTime": {
     "end_time": "2024-07-31T08:31:24.029869Z",
     "start_time": "2024-07-31T08:31:24.027878Z"
    }
   },
   "source": [
    "# Indicators\n",
    "# - 9/26 MA\n",
    "# - MACD\n",
    "# - Stochastic RSI\n",
    "# - CCI - Commodity Channel Index\n",
    "# - PE\n",
    "# - PB\n",
    "# - EPS"
   ],
   "outputs": [],
   "execution_count": 5
  },
  {
   "metadata": {
    "ExecuteTime": {
     "end_time": "2024-07-31T10:14:54.165308Z",
     "start_time": "2024-07-31T10:14:54.160312Z"
    }
   },
   "cell_type": "code",
   "source": "stock = yf.Ticker(\"ICICIBANK.NS\")",
   "outputs": [],
   "execution_count": 122
  },
  {
   "metadata": {
    "ExecuteTime": {
     "end_time": "2024-07-31T10:14:57.440919Z",
     "start_time": "2024-07-31T10:14:57.438625Z"
    }
   },
   "cell_type": "code",
   "source": [
    "for i in stock.info:\n",
    "    if 'ebitda' in i.lower():\n",
    "        print(i, stock.info[i])"
   ],
   "outputs": [],
   "execution_count": 125
  },
  {
   "metadata": {
    "ExecuteTime": {
     "end_time": "2024-07-31T08:31:26.015732Z",
     "start_time": "2024-07-31T08:31:25.516672Z"
    }
   },
   "cell_type": "code",
   "source": "stock.info['priceToBook']",
   "outputs": [
    {
     "data": {
      "text/plain": [
       "2.5650525"
      ]
     },
     "execution_count": 7,
     "metadata": {},
     "output_type": "execute_result"
    }
   ],
   "execution_count": 7
  },
  {
   "metadata": {
    "ExecuteTime": {
     "end_time": "2024-07-31T08:31:26.019719Z",
     "start_time": "2024-07-31T08:31:26.016708Z"
    }
   },
   "cell_type": "code",
   "source": [
    "for i in stock..index.to_list():\n",
    "    if \"earning\" in i.lower():\n",
    "        print(i)"
   ],
   "outputs": [
    {
     "ename": "SyntaxError",
     "evalue": "invalid syntax (3623872351.py, line 1)",
     "output_type": "error",
     "traceback": [
      "\u001B[0;36m  Cell \u001B[0;32mIn[8], line 1\u001B[0;36m\u001B[0m\n\u001B[0;31m    for i in stock..index.to_list():\u001B[0m\n\u001B[0m                   ^\u001B[0m\n\u001B[0;31mSyntaxError\u001B[0m\u001B[0;31m:\u001B[0m invalid syntax\n"
     ]
    }
   ],
   "execution_count": 8
  },
  {
   "metadata": {
    "ExecuteTime": {
     "end_time": "2024-07-31T08:31:26.873208Z",
     "start_time": "2024-07-31T08:31:26.699553Z"
    }
   },
   "cell_type": "code",
   "source": [
    "for item in stock.financials.index.to_list():\n",
    "    if \"pb\" in item.lower():\n",
    "        print(item)"
   ],
   "outputs": [],
   "execution_count": 9
  },
  {
   "metadata": {
    "ExecuteTime": {
     "end_time": "2024-07-31T08:31:27.657173Z",
     "start_time": "2024-07-31T08:31:27.452256Z"
    }
   },
   "cell_type": "code",
   "source": [
    "balance_sheet = stock.balancesheet\n",
    "book_value = balance_sheet.loc['Tangible Book Value'].tolist()\n",
    "book_value = next((x for x in book_value if x is not None and pd.notna(x)), None)\n",
    "num_shares = balance_sheet.loc['Ordinary Shares Number'].tolist()\n",
    "num_shares = next((x for x in num_shares if x is not None and pd.notna(x)), None)\n",
    "\n",
    "# Calculate Book Value per Share\n",
    "book_value_per_share = book_value / num_shares\n",
    "print(book_value_per_share)"
   ],
   "outputs": [
    {
     "name": "stdout",
     "output_type": "stream",
     "text": [
      "640.1137777628285\n"
     ]
    }
   ],
   "execution_count": 10
  },
  {
   "metadata": {
    "ExecuteTime": {
     "end_time": "2024-07-31T08:31:28.770807Z",
     "start_time": "2024-07-31T08:31:28.760504Z"
    }
   },
   "cell_type": "code",
   "source": [
    "financials = stock.financials\n",
    "financials"
   ],
   "outputs": [
    {
     "data": {
      "text/plain": [
       "                                                         2024-03-31  \\\n",
       "Tax Effect Of Unusual Items                                     0.0   \n",
       "Tax Rate For Calcs                                         0.245467   \n",
       "Normalized EBITDA                                   1786770000000.0   \n",
       "Total Unusual Items                                             NaN   \n",
       "Total Unusual Items Excluding Goodwill                          NaN   \n",
       "Net Income From Continuing Operation Net Minori...   696210000000.0   \n",
       "Reconciled Depreciation                              508320000000.0   \n",
       "Reconciled Cost Of Revenue                          6361750000000.0   \n",
       "EBITDA                                              1786770000000.0   \n",
       "EBIT                                                1278450000000.0   \n",
       "Net Interest Income                                 -231180000000.0   \n",
       "Interest Expense                                     231180000000.0   \n",
       "Interest Income                                                 NaN   \n",
       "Normalized Income                                    696210000000.0   \n",
       "Net Income From Continuing And Discontinued Ope...   696210000000.0   \n",
       "Total Expenses                                      7896630000000.0   \n",
       "Rent Expense Supplemental                                       NaN   \n",
       "Diluted Average Shares                                 6765889213.0   \n",
       "Basic Average Shares                                   6765889213.0   \n",
       "Diluted EPS                                                   102.9   \n",
       "Basic EPS                                                     102.9   \n",
       "Diluted NI Availto Com Stockholders                  696210000000.0   \n",
       "Net Income Common Stockholders                       696210000000.0   \n",
       "Otherunder Preferred Stock Dividend                             0.0   \n",
       "Net Income                                           696210000000.0   \n",
       "Minority Interests                                   -93990000000.0   \n",
       "Net Income Including Noncontrolling Interests        790200000000.0   \n",
       "Net Income Discontinuous Operations                             0.0   \n",
       "Net Income Continuous Operations                     790200000000.0   \n",
       "Tax Provision                                        257070000000.0   \n",
       "Pretax Income                                       1047270000000.0   \n",
       "Other Non Operating Income Expenses                  160570000000.0   \n",
       "Special Income Charges                                          NaN   \n",
       "Other Special Charges                                           NaN   \n",
       "Write Off                                                       NaN   \n",
       "Restructuring And Mergern Acquisition                           NaN   \n",
       "Net Non Operating Interest Income Expense           -231180000000.0   \n",
       "Total Other Finance Cost                                        NaN   \n",
       "Interest Expense Non Operating                       231180000000.0   \n",
       "Interest Income Non Operating                                   NaN   \n",
       "Operating Income                                    1114010000000.0   \n",
       "Operating Expense                                   1534880000000.0   \n",
       "Other Operating Expenses                            1278090000000.0   \n",
       "Selling General And Administration                              NaN   \n",
       "Selling And Marketing Expense                                   NaN   \n",
       "General And Administrative Expense                              NaN   \n",
       "Rent And Landing Fees                                           NaN   \n",
       "Gross Profit                                        2648890000000.0   \n",
       "Cost Of Revenue                                     6361750000000.0   \n",
       "Total Revenue                                       9010640000000.0   \n",
       "Operating Revenue                                   9010640000000.0   \n",
       "\n",
       "                                                         2023-03-31  \\\n",
       "Tax Effect Of Unusual Items                                     0.0   \n",
       "Tax Rate For Calcs                                          0.21666   \n",
       "Normalized EBITDA                                   1539200000000.0   \n",
       "Total Unusual Items                                             0.0   \n",
       "Total Unusual Items Excluding Goodwill                          0.0   \n",
       "Net Income From Continuing Operation Net Minori...   662840000000.0   \n",
       "Reconciled Depreciation                              403030000000.0   \n",
       "Reconciled Cost Of Revenue                          6287860000000.0   \n",
       "EBITDA                                              1539200000000.0   \n",
       "EBIT                                                1136170000000.0   \n",
       "Net Interest Income                                 -195710000000.0   \n",
       "Interest Expense                                     195710000000.0   \n",
       "Interest Income                                                 NaN   \n",
       "Normalized Income                                    662840000000.0   \n",
       "Net Income From Continuing And Discontinued Ope...   667020000000.0   \n",
       "Total Expenses                                      7759760000000.0   \n",
       "Rent Expense Supplemental                                       NaN   \n",
       "Diluted Average Shares                                 6765594888.0   \n",
       "Basic Average Shares                                   6765594888.0   \n",
       "Diluted EPS                                                   98.59   \n",
       "Basic EPS                                                     98.59   \n",
       "Diluted NI Availto Com Stockholders                  667020000000.0   \n",
       "Net Income Common Stockholders                       667020000000.0   \n",
       "Otherunder Preferred Stock Dividend                             0.0   \n",
       "Net Income                                           667020000000.0   \n",
       "Minority Interests                                   -73860000000.0   \n",
       "Net Income Including Noncontrolling Interests        740880000000.0   \n",
       "Net Income Discontinuous Operations                    4180000000.0   \n",
       "Net Income Continuous Operations                     736700000000.0   \n",
       "Tax Provision                                        203760000000.0   \n",
       "Pretax Income                                        940460000000.0   \n",
       "Other Non Operating Income Expenses                  117340000000.0   \n",
       "Special Income Charges                                          0.0   \n",
       "Other Special Charges                                           NaN   \n",
       "Write Off                                                       NaN   \n",
       "Restructuring And Mergern Acquisition                           NaN   \n",
       "Net Non Operating Interest Income Expense           -195710000000.0   \n",
       "Total Other Finance Cost                                        NaN   \n",
       "Interest Expense Non Operating                       195710000000.0   \n",
       "Interest Income Non Operating                                   NaN   \n",
       "Operating Income                                    1018590000000.0   \n",
       "Operating Expense                                   1471900000000.0   \n",
       "Other Operating Expenses                            1223180000000.0   \n",
       "Selling General And Administration                              NaN   \n",
       "Selling And Marketing Expense                                   NaN   \n",
       "General And Administrative Expense                              NaN   \n",
       "Rent And Landing Fees                                           NaN   \n",
       "Gross Profit                                        2490490000000.0   \n",
       "Cost Of Revenue                                     6287860000000.0   \n",
       "Total Revenue                                       8778350000000.0   \n",
       "Operating Revenue                                   8778350000000.0   \n",
       "\n",
       "                                                            2022-03-31  \\\n",
       "Tax Effect Of Unusual Items                          5492892015.877921   \n",
       "Tax Rate For Calcs                                            0.193684   \n",
       "Normalized EBITDA                                      1256870000000.0   \n",
       "Total Unusual Items                                      28360000000.0   \n",
       "Total Unusual Items Excluding Goodwill                   28360000000.0   \n",
       "Net Income From Continuing Operation Net Minori...      607050000000.0   \n",
       "Reconciled Depreciation                                 297970000000.0   \n",
       "Reconciled Cost Of Revenue                             5047090000000.0   \n",
       "EBITDA                                                 1285230000000.0   \n",
       "EBIT                                                    987260000000.0   \n",
       "Net Interest Income                                    -145840000000.0   \n",
       "Interest Expense                                        145840000000.0   \n",
       "Interest Income                                         125290000000.0   \n",
       "Normalized Income                                   584182892015.87793   \n",
       "Net Income From Continuing And Discontinued Ope...      607050000000.0   \n",
       "Total Expenses                                         6192990000000.0   \n",
       "Rent Expense Supplemental                                 6260000000.0   \n",
       "Diluted Average Shares                                    6681893231.0   \n",
       "Basic Average Shares                                      6598369565.0   \n",
       "Diluted EPS                                                      90.85   \n",
       "Basic EPS                                                         92.0   \n",
       "Diluted NI Availto Com Stockholders                     607050000000.0   \n",
       "Net Income Common Stockholders                          607050000000.0   \n",
       "Otherunder Preferred Stock Dividend                                0.0   \n",
       "Net Income                                              607050000000.0   \n",
       "Minority Interests                                      -71400000000.0   \n",
       "Net Income Including Noncontrolling Interests           678450000000.0   \n",
       "Net Income Discontinuous Operations                                NaN   \n",
       "Net Income Continuous Operations                        678450000000.0   \n",
       "Tax Provision                                           162970000000.0   \n",
       "Pretax Income                                           841420000000.0   \n",
       "Other Non Operating Income Expenses                     149470000000.0   \n",
       "Special Income Charges                                   28360000000.0   \n",
       "Other Special Charges                                   -27370000000.0   \n",
       "Write Off                                                          0.0   \n",
       "Restructuring And Mergern Acquisition                              NaN   \n",
       "Net Non Operating Interest Income Expense              -145840000000.0   \n",
       "Total Other Finance Cost                                   170000000.0   \n",
       "Interest Expense Non Operating                          145840000000.0   \n",
       "Interest Income Non Operating                           125290000000.0   \n",
       "Operating Income                                        806630000000.0   \n",
       "Operating Expense                                      1145900000000.0   \n",
       "Other Operating Expenses                                958150000000.0   \n",
       "Selling General And Administration                      248690000000.0   \n",
       "Selling And Marketing Expense                           159780000000.0   \n",
       "General And Administrative Expense                       88910000000.0   \n",
       "Rent And Landing Fees                                     5780000000.0   \n",
       "Gross Profit                                           1952530000000.0   \n",
       "Cost Of Revenue                                        5047090000000.0   \n",
       "Total Revenue                                          6999620000000.0   \n",
       "Operating Revenue                                      6999620000000.0   \n",
       "\n",
       "                                                         2021-03-31  \\\n",
       "Tax Effect Of Unusual Items                            3659070000.0   \n",
       "Tax Rate For Calcs                                           0.0345   \n",
       "Normalized EBITDA                                    893340000000.0   \n",
       "Total Unusual Items                                  106060000000.0   \n",
       "Total Unusual Items Excluding Goodwill               106060000000.0   \n",
       "Net Income From Continuing Operation Net Minori...   491280000000.0   \n",
       "Reconciled Depreciation                              265720000000.0   \n",
       "Reconciled Cost Of Revenue                          3390610000000.0   \n",
       "EBITDA                                               999400000000.0   \n",
       "EBIT                                                 733680000000.0   \n",
       "Net Interest Income                                  -76060000000.0   \n",
       "Interest Expense                                     179070000000.0   \n",
       "Interest Income                                      103660000000.0   \n",
       "Normalized Income                                    388879070000.0   \n",
       "Net Income From Continuing And Discontinued Ope...   491280000000.0   \n",
       "Total Expenses                                      4127590000000.0   \n",
       "Rent Expense Supplemental                              7780000000.0   \n",
       "Diluted Average Shares                                 6532138901.0   \n",
       "Basic Average Shares                                   6432874848.0   \n",
       "Diluted EPS                                                   75.21   \n",
       "Basic EPS                                                     76.37   \n",
       "Diluted NI Availto Com Stockholders                  491280000000.0   \n",
       "Net Income Common Stockholders                       491280000000.0   \n",
       "Otherunder Preferred Stock Dividend                             0.0   \n",
       "Net Income                                           491280000000.0   \n",
       "Minority Interests                                   -46110000000.0   \n",
       "Net Income Including Noncontrolling Interests        537390000000.0   \n",
       "Net Income Discontinuous Operations                             NaN   \n",
       "Net Income Continuous Operations                     537390000000.0   \n",
       "Tax Provision                                         17220000000.0   \n",
       "Pretax Income                                        554610000000.0   \n",
       "Other Non Operating Income Expenses                    9580000000.0   \n",
       "Special Income Charges                                 6760000000.0   \n",
       "Other Special Charges                                 -7970000000.0   \n",
       "Write Off                                              1210000000.0   \n",
       "Restructuring And Mergern Acquisition                           NaN   \n",
       "Net Non Operating Interest Income Expense            -76060000000.0   \n",
       "Total Other Finance Cost                                650000000.0   \n",
       "Interest Expense Non Operating                       179070000000.0   \n",
       "Interest Income Non Operating                        103660000000.0   \n",
       "Operating Income                                     541650000000.0   \n",
       "Operating Expense                                    736980000000.0   \n",
       "Other Operating Expenses                             396010000000.0   \n",
       "Selling General And Administration                   196700000000.0   \n",
       "Selling And Marketing Expense                        126780000000.0   \n",
       "General And Administrative Expense                    69920000000.0   \n",
       "Rent And Landing Fees                                  5990000000.0   \n",
       "Gross Profit                                        1278630000000.0   \n",
       "Cost Of Revenue                                     3390610000000.0   \n",
       "Total Revenue                                       4669240000000.0   \n",
       "Operating Revenue                                   4669240000000.0   \n",
       "\n",
       "                                                        2020-03-31  \n",
       "Tax Effect Of Unusual Items                                    NaN  \n",
       "Tax Rate For Calcs                                             NaN  \n",
       "Normalized EBITDA                                              NaN  \n",
       "Total Unusual Items                                 -25950000000.0  \n",
       "Total Unusual Items Excluding Goodwill              -25950000000.0  \n",
       "Net Income From Continuing Operation Net Minori...             NaN  \n",
       "Reconciled Depreciation                                        NaN  \n",
       "Reconciled Cost Of Revenue                                     NaN  \n",
       "EBITDA                                                         NaN  \n",
       "EBIT                                                           NaN  \n",
       "Net Interest Income                                            NaN  \n",
       "Interest Expense                                               NaN  \n",
       "Interest Income                                      95480000000.0  \n",
       "Normalized Income                                              NaN  \n",
       "Net Income From Continuing And Discontinued Ope...             NaN  \n",
       "Total Expenses                                                 NaN  \n",
       "Rent Expense Supplemental                            59690000000.0  \n",
       "Diluted Average Shares                                         NaN  \n",
       "Basic Average Shares                                           NaN  \n",
       "Diluted EPS                                                    NaN  \n",
       "Basic EPS                                                      NaN  \n",
       "Diluted NI Availto Com Stockholders                            NaN  \n",
       "Net Income Common Stockholders                                 NaN  \n",
       "Otherunder Preferred Stock Dividend                            NaN  \n",
       "Net Income                                                     NaN  \n",
       "Minority Interests                                             NaN  \n",
       "Net Income Including Noncontrolling Interests                  NaN  \n",
       "Net Income Discontinuous Operations                            NaN  \n",
       "Net Income Continuous Operations                               NaN  \n",
       "Tax Provision                                                  NaN  \n",
       "Pretax Income                                                  NaN  \n",
       "Other Non Operating Income Expenses                            NaN  \n",
       "Special Income Charges                              -46590000000.0  \n",
       "Other Special Charges                                46590000000.0  \n",
       "Write Off                                                      0.0  \n",
       "Restructuring And Mergern Acquisition                44440000000.0  \n",
       "Net Non Operating Interest Income Expense                      NaN  \n",
       "Total Other Finance Cost                               740000000.0  \n",
       "Interest Expense Non Operating                                 NaN  \n",
       "Interest Income Non Operating                        95480000000.0  \n",
       "Operating Income                                               NaN  \n",
       "Operating Expense                                              NaN  \n",
       "Other Operating Expenses                                       NaN  \n",
       "Selling General And Administration                  242620000000.0  \n",
       "Selling And Marketing Expense                       121100000000.0  \n",
       "General And Administrative Expense                  121520000000.0  \n",
       "Rent And Landing Fees                                57930000000.0  \n",
       "Gross Profit                                                   NaN  \n",
       "Cost Of Revenue                                                NaN  \n",
       "Total Revenue                                                  NaN  \n",
       "Operating Revenue                                              NaN  "
      ],
      "text/html": [
       "<div>\n",
       "<style scoped>\n",
       "    .dataframe tbody tr th:only-of-type {\n",
       "        vertical-align: middle;\n",
       "    }\n",
       "\n",
       "    .dataframe tbody tr th {\n",
       "        vertical-align: top;\n",
       "    }\n",
       "\n",
       "    .dataframe thead th {\n",
       "        text-align: right;\n",
       "    }\n",
       "</style>\n",
       "<table border=\"1\" class=\"dataframe\">\n",
       "  <thead>\n",
       "    <tr style=\"text-align: right;\">\n",
       "      <th></th>\n",
       "      <th>2024-03-31</th>\n",
       "      <th>2023-03-31</th>\n",
       "      <th>2022-03-31</th>\n",
       "      <th>2021-03-31</th>\n",
       "      <th>2020-03-31</th>\n",
       "    </tr>\n",
       "  </thead>\n",
       "  <tbody>\n",
       "    <tr>\n",
       "      <th>Tax Effect Of Unusual Items</th>\n",
       "      <td>0.0</td>\n",
       "      <td>0.0</td>\n",
       "      <td>5492892015.877921</td>\n",
       "      <td>3659070000.0</td>\n",
       "      <td>NaN</td>\n",
       "    </tr>\n",
       "    <tr>\n",
       "      <th>Tax Rate For Calcs</th>\n",
       "      <td>0.245467</td>\n",
       "      <td>0.21666</td>\n",
       "      <td>0.193684</td>\n",
       "      <td>0.0345</td>\n",
       "      <td>NaN</td>\n",
       "    </tr>\n",
       "    <tr>\n",
       "      <th>Normalized EBITDA</th>\n",
       "      <td>1786770000000.0</td>\n",
       "      <td>1539200000000.0</td>\n",
       "      <td>1256870000000.0</td>\n",
       "      <td>893340000000.0</td>\n",
       "      <td>NaN</td>\n",
       "    </tr>\n",
       "    <tr>\n",
       "      <th>Total Unusual Items</th>\n",
       "      <td>NaN</td>\n",
       "      <td>0.0</td>\n",
       "      <td>28360000000.0</td>\n",
       "      <td>106060000000.0</td>\n",
       "      <td>-25950000000.0</td>\n",
       "    </tr>\n",
       "    <tr>\n",
       "      <th>Total Unusual Items Excluding Goodwill</th>\n",
       "      <td>NaN</td>\n",
       "      <td>0.0</td>\n",
       "      <td>28360000000.0</td>\n",
       "      <td>106060000000.0</td>\n",
       "      <td>-25950000000.0</td>\n",
       "    </tr>\n",
       "    <tr>\n",
       "      <th>Net Income From Continuing Operation Net Minority Interest</th>\n",
       "      <td>696210000000.0</td>\n",
       "      <td>662840000000.0</td>\n",
       "      <td>607050000000.0</td>\n",
       "      <td>491280000000.0</td>\n",
       "      <td>NaN</td>\n",
       "    </tr>\n",
       "    <tr>\n",
       "      <th>Reconciled Depreciation</th>\n",
       "      <td>508320000000.0</td>\n",
       "      <td>403030000000.0</td>\n",
       "      <td>297970000000.0</td>\n",
       "      <td>265720000000.0</td>\n",
       "      <td>NaN</td>\n",
       "    </tr>\n",
       "    <tr>\n",
       "      <th>Reconciled Cost Of Revenue</th>\n",
       "      <td>6361750000000.0</td>\n",
       "      <td>6287860000000.0</td>\n",
       "      <td>5047090000000.0</td>\n",
       "      <td>3390610000000.0</td>\n",
       "      <td>NaN</td>\n",
       "    </tr>\n",
       "    <tr>\n",
       "      <th>EBITDA</th>\n",
       "      <td>1786770000000.0</td>\n",
       "      <td>1539200000000.0</td>\n",
       "      <td>1285230000000.0</td>\n",
       "      <td>999400000000.0</td>\n",
       "      <td>NaN</td>\n",
       "    </tr>\n",
       "    <tr>\n",
       "      <th>EBIT</th>\n",
       "      <td>1278450000000.0</td>\n",
       "      <td>1136170000000.0</td>\n",
       "      <td>987260000000.0</td>\n",
       "      <td>733680000000.0</td>\n",
       "      <td>NaN</td>\n",
       "    </tr>\n",
       "    <tr>\n",
       "      <th>Net Interest Income</th>\n",
       "      <td>-231180000000.0</td>\n",
       "      <td>-195710000000.0</td>\n",
       "      <td>-145840000000.0</td>\n",
       "      <td>-76060000000.0</td>\n",
       "      <td>NaN</td>\n",
       "    </tr>\n",
       "    <tr>\n",
       "      <th>Interest Expense</th>\n",
       "      <td>231180000000.0</td>\n",
       "      <td>195710000000.0</td>\n",
       "      <td>145840000000.0</td>\n",
       "      <td>179070000000.0</td>\n",
       "      <td>NaN</td>\n",
       "    </tr>\n",
       "    <tr>\n",
       "      <th>Interest Income</th>\n",
       "      <td>NaN</td>\n",
       "      <td>NaN</td>\n",
       "      <td>125290000000.0</td>\n",
       "      <td>103660000000.0</td>\n",
       "      <td>95480000000.0</td>\n",
       "    </tr>\n",
       "    <tr>\n",
       "      <th>Normalized Income</th>\n",
       "      <td>696210000000.0</td>\n",
       "      <td>662840000000.0</td>\n",
       "      <td>584182892015.87793</td>\n",
       "      <td>388879070000.0</td>\n",
       "      <td>NaN</td>\n",
       "    </tr>\n",
       "    <tr>\n",
       "      <th>Net Income From Continuing And Discontinued Operation</th>\n",
       "      <td>696210000000.0</td>\n",
       "      <td>667020000000.0</td>\n",
       "      <td>607050000000.0</td>\n",
       "      <td>491280000000.0</td>\n",
       "      <td>NaN</td>\n",
       "    </tr>\n",
       "    <tr>\n",
       "      <th>Total Expenses</th>\n",
       "      <td>7896630000000.0</td>\n",
       "      <td>7759760000000.0</td>\n",
       "      <td>6192990000000.0</td>\n",
       "      <td>4127590000000.0</td>\n",
       "      <td>NaN</td>\n",
       "    </tr>\n",
       "    <tr>\n",
       "      <th>Rent Expense Supplemental</th>\n",
       "      <td>NaN</td>\n",
       "      <td>NaN</td>\n",
       "      <td>6260000000.0</td>\n",
       "      <td>7780000000.0</td>\n",
       "      <td>59690000000.0</td>\n",
       "    </tr>\n",
       "    <tr>\n",
       "      <th>Diluted Average Shares</th>\n",
       "      <td>6765889213.0</td>\n",
       "      <td>6765594888.0</td>\n",
       "      <td>6681893231.0</td>\n",
       "      <td>6532138901.0</td>\n",
       "      <td>NaN</td>\n",
       "    </tr>\n",
       "    <tr>\n",
       "      <th>Basic Average Shares</th>\n",
       "      <td>6765889213.0</td>\n",
       "      <td>6765594888.0</td>\n",
       "      <td>6598369565.0</td>\n",
       "      <td>6432874848.0</td>\n",
       "      <td>NaN</td>\n",
       "    </tr>\n",
       "    <tr>\n",
       "      <th>Diluted EPS</th>\n",
       "      <td>102.9</td>\n",
       "      <td>98.59</td>\n",
       "      <td>90.85</td>\n",
       "      <td>75.21</td>\n",
       "      <td>NaN</td>\n",
       "    </tr>\n",
       "    <tr>\n",
       "      <th>Basic EPS</th>\n",
       "      <td>102.9</td>\n",
       "      <td>98.59</td>\n",
       "      <td>92.0</td>\n",
       "      <td>76.37</td>\n",
       "      <td>NaN</td>\n",
       "    </tr>\n",
       "    <tr>\n",
       "      <th>Diluted NI Availto Com Stockholders</th>\n",
       "      <td>696210000000.0</td>\n",
       "      <td>667020000000.0</td>\n",
       "      <td>607050000000.0</td>\n",
       "      <td>491280000000.0</td>\n",
       "      <td>NaN</td>\n",
       "    </tr>\n",
       "    <tr>\n",
       "      <th>Net Income Common Stockholders</th>\n",
       "      <td>696210000000.0</td>\n",
       "      <td>667020000000.0</td>\n",
       "      <td>607050000000.0</td>\n",
       "      <td>491280000000.0</td>\n",
       "      <td>NaN</td>\n",
       "    </tr>\n",
       "    <tr>\n",
       "      <th>Otherunder Preferred Stock Dividend</th>\n",
       "      <td>0.0</td>\n",
       "      <td>0.0</td>\n",
       "      <td>0.0</td>\n",
       "      <td>0.0</td>\n",
       "      <td>NaN</td>\n",
       "    </tr>\n",
       "    <tr>\n",
       "      <th>Net Income</th>\n",
       "      <td>696210000000.0</td>\n",
       "      <td>667020000000.0</td>\n",
       "      <td>607050000000.0</td>\n",
       "      <td>491280000000.0</td>\n",
       "      <td>NaN</td>\n",
       "    </tr>\n",
       "    <tr>\n",
       "      <th>Minority Interests</th>\n",
       "      <td>-93990000000.0</td>\n",
       "      <td>-73860000000.0</td>\n",
       "      <td>-71400000000.0</td>\n",
       "      <td>-46110000000.0</td>\n",
       "      <td>NaN</td>\n",
       "    </tr>\n",
       "    <tr>\n",
       "      <th>Net Income Including Noncontrolling Interests</th>\n",
       "      <td>790200000000.0</td>\n",
       "      <td>740880000000.0</td>\n",
       "      <td>678450000000.0</td>\n",
       "      <td>537390000000.0</td>\n",
       "      <td>NaN</td>\n",
       "    </tr>\n",
       "    <tr>\n",
       "      <th>Net Income Discontinuous Operations</th>\n",
       "      <td>0.0</td>\n",
       "      <td>4180000000.0</td>\n",
       "      <td>NaN</td>\n",
       "      <td>NaN</td>\n",
       "      <td>NaN</td>\n",
       "    </tr>\n",
       "    <tr>\n",
       "      <th>Net Income Continuous Operations</th>\n",
       "      <td>790200000000.0</td>\n",
       "      <td>736700000000.0</td>\n",
       "      <td>678450000000.0</td>\n",
       "      <td>537390000000.0</td>\n",
       "      <td>NaN</td>\n",
       "    </tr>\n",
       "    <tr>\n",
       "      <th>Tax Provision</th>\n",
       "      <td>257070000000.0</td>\n",
       "      <td>203760000000.0</td>\n",
       "      <td>162970000000.0</td>\n",
       "      <td>17220000000.0</td>\n",
       "      <td>NaN</td>\n",
       "    </tr>\n",
       "    <tr>\n",
       "      <th>Pretax Income</th>\n",
       "      <td>1047270000000.0</td>\n",
       "      <td>940460000000.0</td>\n",
       "      <td>841420000000.0</td>\n",
       "      <td>554610000000.0</td>\n",
       "      <td>NaN</td>\n",
       "    </tr>\n",
       "    <tr>\n",
       "      <th>Other Non Operating Income Expenses</th>\n",
       "      <td>160570000000.0</td>\n",
       "      <td>117340000000.0</td>\n",
       "      <td>149470000000.0</td>\n",
       "      <td>9580000000.0</td>\n",
       "      <td>NaN</td>\n",
       "    </tr>\n",
       "    <tr>\n",
       "      <th>Special Income Charges</th>\n",
       "      <td>NaN</td>\n",
       "      <td>0.0</td>\n",
       "      <td>28360000000.0</td>\n",
       "      <td>6760000000.0</td>\n",
       "      <td>-46590000000.0</td>\n",
       "    </tr>\n",
       "    <tr>\n",
       "      <th>Other Special Charges</th>\n",
       "      <td>NaN</td>\n",
       "      <td>NaN</td>\n",
       "      <td>-27370000000.0</td>\n",
       "      <td>-7970000000.0</td>\n",
       "      <td>46590000000.0</td>\n",
       "    </tr>\n",
       "    <tr>\n",
       "      <th>Write Off</th>\n",
       "      <td>NaN</td>\n",
       "      <td>NaN</td>\n",
       "      <td>0.0</td>\n",
       "      <td>1210000000.0</td>\n",
       "      <td>0.0</td>\n",
       "    </tr>\n",
       "    <tr>\n",
       "      <th>Restructuring And Mergern Acquisition</th>\n",
       "      <td>NaN</td>\n",
       "      <td>NaN</td>\n",
       "      <td>NaN</td>\n",
       "      <td>NaN</td>\n",
       "      <td>44440000000.0</td>\n",
       "    </tr>\n",
       "    <tr>\n",
       "      <th>Net Non Operating Interest Income Expense</th>\n",
       "      <td>-231180000000.0</td>\n",
       "      <td>-195710000000.0</td>\n",
       "      <td>-145840000000.0</td>\n",
       "      <td>-76060000000.0</td>\n",
       "      <td>NaN</td>\n",
       "    </tr>\n",
       "    <tr>\n",
       "      <th>Total Other Finance Cost</th>\n",
       "      <td>NaN</td>\n",
       "      <td>NaN</td>\n",
       "      <td>170000000.0</td>\n",
       "      <td>650000000.0</td>\n",
       "      <td>740000000.0</td>\n",
       "    </tr>\n",
       "    <tr>\n",
       "      <th>Interest Expense Non Operating</th>\n",
       "      <td>231180000000.0</td>\n",
       "      <td>195710000000.0</td>\n",
       "      <td>145840000000.0</td>\n",
       "      <td>179070000000.0</td>\n",
       "      <td>NaN</td>\n",
       "    </tr>\n",
       "    <tr>\n",
       "      <th>Interest Income Non Operating</th>\n",
       "      <td>NaN</td>\n",
       "      <td>NaN</td>\n",
       "      <td>125290000000.0</td>\n",
       "      <td>103660000000.0</td>\n",
       "      <td>95480000000.0</td>\n",
       "    </tr>\n",
       "    <tr>\n",
       "      <th>Operating Income</th>\n",
       "      <td>1114010000000.0</td>\n",
       "      <td>1018590000000.0</td>\n",
       "      <td>806630000000.0</td>\n",
       "      <td>541650000000.0</td>\n",
       "      <td>NaN</td>\n",
       "    </tr>\n",
       "    <tr>\n",
       "      <th>Operating Expense</th>\n",
       "      <td>1534880000000.0</td>\n",
       "      <td>1471900000000.0</td>\n",
       "      <td>1145900000000.0</td>\n",
       "      <td>736980000000.0</td>\n",
       "      <td>NaN</td>\n",
       "    </tr>\n",
       "    <tr>\n",
       "      <th>Other Operating Expenses</th>\n",
       "      <td>1278090000000.0</td>\n",
       "      <td>1223180000000.0</td>\n",
       "      <td>958150000000.0</td>\n",
       "      <td>396010000000.0</td>\n",
       "      <td>NaN</td>\n",
       "    </tr>\n",
       "    <tr>\n",
       "      <th>Selling General And Administration</th>\n",
       "      <td>NaN</td>\n",
       "      <td>NaN</td>\n",
       "      <td>248690000000.0</td>\n",
       "      <td>196700000000.0</td>\n",
       "      <td>242620000000.0</td>\n",
       "    </tr>\n",
       "    <tr>\n",
       "      <th>Selling And Marketing Expense</th>\n",
       "      <td>NaN</td>\n",
       "      <td>NaN</td>\n",
       "      <td>159780000000.0</td>\n",
       "      <td>126780000000.0</td>\n",
       "      <td>121100000000.0</td>\n",
       "    </tr>\n",
       "    <tr>\n",
       "      <th>General And Administrative Expense</th>\n",
       "      <td>NaN</td>\n",
       "      <td>NaN</td>\n",
       "      <td>88910000000.0</td>\n",
       "      <td>69920000000.0</td>\n",
       "      <td>121520000000.0</td>\n",
       "    </tr>\n",
       "    <tr>\n",
       "      <th>Rent And Landing Fees</th>\n",
       "      <td>NaN</td>\n",
       "      <td>NaN</td>\n",
       "      <td>5780000000.0</td>\n",
       "      <td>5990000000.0</td>\n",
       "      <td>57930000000.0</td>\n",
       "    </tr>\n",
       "    <tr>\n",
       "      <th>Gross Profit</th>\n",
       "      <td>2648890000000.0</td>\n",
       "      <td>2490490000000.0</td>\n",
       "      <td>1952530000000.0</td>\n",
       "      <td>1278630000000.0</td>\n",
       "      <td>NaN</td>\n",
       "    </tr>\n",
       "    <tr>\n",
       "      <th>Cost Of Revenue</th>\n",
       "      <td>6361750000000.0</td>\n",
       "      <td>6287860000000.0</td>\n",
       "      <td>5047090000000.0</td>\n",
       "      <td>3390610000000.0</td>\n",
       "      <td>NaN</td>\n",
       "    </tr>\n",
       "    <tr>\n",
       "      <th>Total Revenue</th>\n",
       "      <td>9010640000000.0</td>\n",
       "      <td>8778350000000.0</td>\n",
       "      <td>6999620000000.0</td>\n",
       "      <td>4669240000000.0</td>\n",
       "      <td>NaN</td>\n",
       "    </tr>\n",
       "    <tr>\n",
       "      <th>Operating Revenue</th>\n",
       "      <td>9010640000000.0</td>\n",
       "      <td>8778350000000.0</td>\n",
       "      <td>6999620000000.0</td>\n",
       "      <td>4669240000000.0</td>\n",
       "      <td>NaN</td>\n",
       "    </tr>\n",
       "  </tbody>\n",
       "</table>\n",
       "</div>"
      ]
     },
     "execution_count": 11,
     "metadata": {},
     "output_type": "execute_result"
    }
   ],
   "execution_count": 11
  },
  {
   "metadata": {
    "ExecuteTime": {
     "end_time": "2024-07-31T08:31:29.853685Z",
     "start_time": "2024-07-31T08:31:29.354027Z"
    }
   },
   "cell_type": "code",
   "source": "financials.loc['Net Income'] / stock.fast_info['marketCap']",
   "outputs": [
    {
     "data": {
      "text/plain": [
       "2024-03-31    0.034204\n",
       "2023-03-31     0.03277\n",
       "2022-03-31    0.029824\n",
       "2021-03-31    0.024136\n",
       "2020-03-31         NaN\n",
       "Name: Net Income, dtype: object"
      ]
     },
     "execution_count": 12,
     "metadata": {},
     "output_type": "execute_result"
    }
   ],
   "execution_count": 12
  },
  {
   "metadata": {
    "ExecuteTime": {
     "end_time": "2024-07-31T08:31:29.964835Z",
     "start_time": "2024-07-31T08:31:29.960716Z"
    }
   },
   "cell_type": "code",
   "source": "stock.balancesheet.loc['Working Capital']",
   "outputs": [
    {
     "data": {
      "text/plain": [
       "2024-03-31    727330000000.0\n",
       "2023-03-31    454440000000.0\n",
       "2022-03-31    383570000000.0\n",
       "2021-03-31    954430000000.0\n",
       "2020-03-31               NaN\n",
       "Name: Working Capital, dtype: object"
      ]
     },
     "execution_count": 13,
     "metadata": {},
     "output_type": "execute_result"
    }
   ],
   "execution_count": 13
  },
  {
   "metadata": {
    "ExecuteTime": {
     "end_time": "2024-07-31T08:31:31.235504Z",
     "start_time": "2024-07-31T08:31:31.229274Z"
    }
   },
   "cell_type": "code",
   "source": "balance_sheet.loc['Ordinary Shares Number']",
   "outputs": [
    {
     "data": {
      "text/plain": [
       "2024-03-31    6766094014.0\n",
       "2023-03-31    6766094014.0\n",
       "2022-03-31    6765994014.0\n",
       "2021-03-31    6762068814.0\n",
       "2020-03-31             NaN\n",
       "Name: Ordinary Shares Number, dtype: object"
      ]
     },
     "execution_count": 14,
     "metadata": {},
     "output_type": "execute_result"
    }
   ],
   "execution_count": 14
  },
  {
   "metadata": {
    "ExecuteTime": {
     "end_time": "2024-07-31T09:40:10.883973Z",
     "start_time": "2024-07-31T09:40:10.770849Z"
    }
   },
   "cell_type": "code",
   "source": [
    "stock = yf.Ticker(\"RELIANCE.NS\")\n",
    "for i, val in stock.info.items():\n",
    "    if 'week' in i.lower():\n",
    "        print(i, val)"
   ],
   "outputs": [
    {
     "name": "stdout",
     "output_type": "stream",
     "text": [
      "fiftyTwoWeekLow 2220.3\n",
      "fiftyTwoWeekHigh 3217.6\n",
      "52WeekChange 0.21716571\n",
      "SandP52WeekChange 0.20451367\n"
     ]
    }
   ],
   "execution_count": 61
  },
  {
   "metadata": {
    "ExecuteTime": {
     "end_time": "2024-07-31T09:57:57.499258Z",
     "start_time": "2024-07-31T09:57:57.488269Z"
    }
   },
   "cell_type": "code",
   "source": "stock.info[\"longName\"]",
   "outputs": [
    {
     "data": {
      "text/plain": [
       "'Reliance Industries Limited'"
      ]
     },
     "execution_count": 110,
     "metadata": {},
     "output_type": "execute_result"
    }
   ],
   "execution_count": 110
  },
  {
   "metadata": {
    "ExecuteTime": {
     "end_time": "2024-07-31T09:52:10.654382Z",
     "start_time": "2024-07-31T09:52:10.401219Z"
    }
   },
   "cell_type": "code",
   "source": "stock.history(period=\"5y\").pct_change()",
   "outputs": [
    {
     "data": {
      "text/plain": [
       "                               Open      High       Low     Close    Volume  \\\n",
       "Date                                                                          \n",
       "2019-07-31 00:00:00+05:30       NaN       NaN       NaN       NaN       NaN   \n",
       "2019-08-01 00:00:00+05:30 -0.010504  0.002700 -0.010366  0.012004  0.065863   \n",
       "2019-08-02 00:00:00+05:30  0.016639  0.014511  0.016278  0.009497  0.050317   \n",
       "2019-08-05 00:00:00+05:30 -0.007400 -0.026080 -0.029343 -0.034618  0.279058   \n",
       "2019-08-06 00:00:00+05:30 -0.027635 -0.014910 -0.005319 -0.013163 -0.043789   \n",
       "...                             ...       ...       ...       ...       ...   \n",
       "2024-07-25 00:00:00+05:30 -0.002694 -0.005979  0.000457 -0.002206  0.050910   \n",
       "2024-07-26 00:00:00+05:30  0.007698  0.007964  0.008987  0.011140 -0.212457   \n",
       "2024-07-29 00:00:00+05:30  0.013100  0.009967  0.014376  0.007339 -0.235437   \n",
       "2024-07-30 00:00:00+05:30  0.003357 -0.001637 -0.001174 -0.004572  0.091484   \n",
       "2024-07-31 00:00:00+05:30 -0.008586 -0.009541 -0.005861 -0.005337  0.161682   \n",
       "\n",
       "                           Dividends  Stock Splits  \n",
       "Date                                                \n",
       "2019-07-31 00:00:00+05:30        NaN           NaN  \n",
       "2019-08-01 00:00:00+05:30        NaN           NaN  \n",
       "2019-08-02 00:00:00+05:30        inf           NaN  \n",
       "2019-08-05 00:00:00+05:30       -1.0           NaN  \n",
       "2019-08-06 00:00:00+05:30        NaN           NaN  \n",
       "...                              ...           ...  \n",
       "2024-07-25 00:00:00+05:30        NaN           NaN  \n",
       "2024-07-26 00:00:00+05:30        NaN           NaN  \n",
       "2024-07-29 00:00:00+05:30        NaN           NaN  \n",
       "2024-07-30 00:00:00+05:30        NaN           NaN  \n",
       "2024-07-31 00:00:00+05:30        NaN           NaN  \n",
       "\n",
       "[1235 rows x 7 columns]"
      ],
      "text/html": [
       "<div>\n",
       "<style scoped>\n",
       "    .dataframe tbody tr th:only-of-type {\n",
       "        vertical-align: middle;\n",
       "    }\n",
       "\n",
       "    .dataframe tbody tr th {\n",
       "        vertical-align: top;\n",
       "    }\n",
       "\n",
       "    .dataframe thead th {\n",
       "        text-align: right;\n",
       "    }\n",
       "</style>\n",
       "<table border=\"1\" class=\"dataframe\">\n",
       "  <thead>\n",
       "    <tr style=\"text-align: right;\">\n",
       "      <th></th>\n",
       "      <th>Open</th>\n",
       "      <th>High</th>\n",
       "      <th>Low</th>\n",
       "      <th>Close</th>\n",
       "      <th>Volume</th>\n",
       "      <th>Dividends</th>\n",
       "      <th>Stock Splits</th>\n",
       "    </tr>\n",
       "    <tr>\n",
       "      <th>Date</th>\n",
       "      <th></th>\n",
       "      <th></th>\n",
       "      <th></th>\n",
       "      <th></th>\n",
       "      <th></th>\n",
       "      <th></th>\n",
       "      <th></th>\n",
       "    </tr>\n",
       "  </thead>\n",
       "  <tbody>\n",
       "    <tr>\n",
       "      <th>2019-07-31 00:00:00+05:30</th>\n",
       "      <td>NaN</td>\n",
       "      <td>NaN</td>\n",
       "      <td>NaN</td>\n",
       "      <td>NaN</td>\n",
       "      <td>NaN</td>\n",
       "      <td>NaN</td>\n",
       "      <td>NaN</td>\n",
       "    </tr>\n",
       "    <tr>\n",
       "      <th>2019-08-01 00:00:00+05:30</th>\n",
       "      <td>-0.010504</td>\n",
       "      <td>0.002700</td>\n",
       "      <td>-0.010366</td>\n",
       "      <td>0.012004</td>\n",
       "      <td>0.065863</td>\n",
       "      <td>NaN</td>\n",
       "      <td>NaN</td>\n",
       "    </tr>\n",
       "    <tr>\n",
       "      <th>2019-08-02 00:00:00+05:30</th>\n",
       "      <td>0.016639</td>\n",
       "      <td>0.014511</td>\n",
       "      <td>0.016278</td>\n",
       "      <td>0.009497</td>\n",
       "      <td>0.050317</td>\n",
       "      <td>inf</td>\n",
       "      <td>NaN</td>\n",
       "    </tr>\n",
       "    <tr>\n",
       "      <th>2019-08-05 00:00:00+05:30</th>\n",
       "      <td>-0.007400</td>\n",
       "      <td>-0.026080</td>\n",
       "      <td>-0.029343</td>\n",
       "      <td>-0.034618</td>\n",
       "      <td>0.279058</td>\n",
       "      <td>-1.0</td>\n",
       "      <td>NaN</td>\n",
       "    </tr>\n",
       "    <tr>\n",
       "      <th>2019-08-06 00:00:00+05:30</th>\n",
       "      <td>-0.027635</td>\n",
       "      <td>-0.014910</td>\n",
       "      <td>-0.005319</td>\n",
       "      <td>-0.013163</td>\n",
       "      <td>-0.043789</td>\n",
       "      <td>NaN</td>\n",
       "      <td>NaN</td>\n",
       "    </tr>\n",
       "    <tr>\n",
       "      <th>...</th>\n",
       "      <td>...</td>\n",
       "      <td>...</td>\n",
       "      <td>...</td>\n",
       "      <td>...</td>\n",
       "      <td>...</td>\n",
       "      <td>...</td>\n",
       "      <td>...</td>\n",
       "    </tr>\n",
       "    <tr>\n",
       "      <th>2024-07-25 00:00:00+05:30</th>\n",
       "      <td>-0.002694</td>\n",
       "      <td>-0.005979</td>\n",
       "      <td>0.000457</td>\n",
       "      <td>-0.002206</td>\n",
       "      <td>0.050910</td>\n",
       "      <td>NaN</td>\n",
       "      <td>NaN</td>\n",
       "    </tr>\n",
       "    <tr>\n",
       "      <th>2024-07-26 00:00:00+05:30</th>\n",
       "      <td>0.007698</td>\n",
       "      <td>0.007964</td>\n",
       "      <td>0.008987</td>\n",
       "      <td>0.011140</td>\n",
       "      <td>-0.212457</td>\n",
       "      <td>NaN</td>\n",
       "      <td>NaN</td>\n",
       "    </tr>\n",
       "    <tr>\n",
       "      <th>2024-07-29 00:00:00+05:30</th>\n",
       "      <td>0.013100</td>\n",
       "      <td>0.009967</td>\n",
       "      <td>0.014376</td>\n",
       "      <td>0.007339</td>\n",
       "      <td>-0.235437</td>\n",
       "      <td>NaN</td>\n",
       "      <td>NaN</td>\n",
       "    </tr>\n",
       "    <tr>\n",
       "      <th>2024-07-30 00:00:00+05:30</th>\n",
       "      <td>0.003357</td>\n",
       "      <td>-0.001637</td>\n",
       "      <td>-0.001174</td>\n",
       "      <td>-0.004572</td>\n",
       "      <td>0.091484</td>\n",
       "      <td>NaN</td>\n",
       "      <td>NaN</td>\n",
       "    </tr>\n",
       "    <tr>\n",
       "      <th>2024-07-31 00:00:00+05:30</th>\n",
       "      <td>-0.008586</td>\n",
       "      <td>-0.009541</td>\n",
       "      <td>-0.005861</td>\n",
       "      <td>-0.005337</td>\n",
       "      <td>0.161682</td>\n",
       "      <td>NaN</td>\n",
       "      <td>NaN</td>\n",
       "    </tr>\n",
       "  </tbody>\n",
       "</table>\n",
       "<p>1235 rows × 7 columns</p>\n",
       "</div>"
      ]
     },
     "execution_count": 106,
     "metadata": {},
     "output_type": "execute_result"
    }
   ],
   "execution_count": 106
  },
  {
   "metadata": {
    "ExecuteTime": {
     "end_time": "2024-07-31T09:46:35.165895Z",
     "start_time": "2024-07-31T09:46:34.333824Z"
    }
   },
   "cell_type": "code",
   "source": [
    "for i in stock.mutualfund_holders.index:\n",
    "    if \"\" in i.lower():\n",
    "        print(i)"
   ],
   "outputs": [
    {
     "ename": "AttributeError",
     "evalue": "'int' object has no attribute 'lower'",
     "output_type": "error",
     "traceback": [
      "\u001B[0;31m---------------------------------------------------------------------------\u001B[0m",
      "\u001B[0;31mAttributeError\u001B[0m                            Traceback (most recent call last)",
      "Cell \u001B[0;32mIn[86], line 2\u001B[0m\n\u001B[1;32m      1\u001B[0m \u001B[38;5;28;01mfor\u001B[39;00m i \u001B[38;5;129;01min\u001B[39;00m stock\u001B[38;5;241m.\u001B[39mmutualfund_holders\u001B[38;5;241m.\u001B[39mindex:\n\u001B[0;32m----> 2\u001B[0m     \u001B[38;5;28;01mif\u001B[39;00m \u001B[38;5;124m\"\u001B[39m\u001B[38;5;124m\"\u001B[39m \u001B[38;5;129;01min\u001B[39;00m \u001B[43mi\u001B[49m\u001B[38;5;241;43m.\u001B[39;49m\u001B[43mlower\u001B[49m():\n\u001B[1;32m      3\u001B[0m         \u001B[38;5;28mprint\u001B[39m(i)\n",
      "\u001B[0;31mAttributeError\u001B[0m: 'int' object has no attribute 'lower'"
     ]
    }
   ],
   "execution_count": 86
  },
  {
   "metadata": {
    "ExecuteTime": {
     "end_time": "2024-07-31T10:15:20.937524Z",
     "start_time": "2024-07-31T10:15:20.777883Z"
    }
   },
   "cell_type": "code",
   "source": "stock.financials",
   "outputs": [
    {
     "data": {
      "text/plain": [
       "                                                         2023-03-31  \\\n",
       "Tax Effect Of Unusual Items                             135644750.0   \n",
       "Tax Rate For Calcs                                             0.25   \n",
       "Total Unusual Items                                     542579000.0   \n",
       "Total Unusual Items Excluding Goodwill                  542579000.0   \n",
       "Net Income From Continuing Operation Net Minori...   340366408000.0   \n",
       "Reconciled Depreciation                               16455886000.0   \n",
       "Net Interest Income                                  705234219000.0   \n",
       "Interest Expense                                     505433879000.0   \n",
       "Interest Income                                     1210668098000.0   \n",
       "Normalized Income                                    339959473750.0   \n",
       "Net Income From Continuing And Discontinued Ope...   340366408000.0   \n",
       "Rent Expense Supplemental                             15846567000.0   \n",
       "Diluted Average Shares                                 7104990357.0   \n",
       "Basic Average Shares                                   6966305957.0   \n",
       "Diluted EPS                                                   47.84   \n",
       "Basic EPS                                                     48.86   \n",
       "Diluted NI Availto Com Stockholders                  340366408000.0   \n",
       "Net Income Common Stockholders                       340366408000.0   \n",
       "Net Income                                           340366408000.0   \n",
       "Minority Interests                                   -14246738000.0   \n",
       "Net Income Including Noncontrolling Interests        354613146000.0   \n",
       "Net Income Extraordinary                                        0.0   \n",
       "Net Income Continuous Operations                     354613146000.0   \n",
       "Tax Provision                                        117934400000.0   \n",
       "Pretax Income                                        354613146000.0   \n",
       "Special Income Charges                                  542579000.0   \n",
       "Other Special Charges                                  -542579000.0   \n",
       "Gain On Sale Of Security                              11412527000.0   \n",
       "Depreciation Amortization Depletion Income Stat...    15145592000.0   \n",
       "Depreciation And Amortization In Income Statement     15145592000.0   \n",
       "Depreciation Income Statement                         15145592000.0   \n",
       "Selling General And Administration                   312136641000.0   \n",
       "Selling And Marketing Expense                         65407090000.0   \n",
       "General And Administrative Expense                   246729551000.0   \n",
       "Other Gand A                                          10188362000.0   \n",
       "Insurance And Claims                                  68215530000.0   \n",
       "Rent And Landing Fees                                 15846567000.0   \n",
       "Salaries And Wages                                   152479092000.0   \n",
       "Total Revenue                                       1355811552000.0   \n",
       "Operating Revenue                                   1355811552000.0   \n",
       "Occupancy And Equipment                               34644161000.0   \n",
       "Professional Expense And Contract Services Expense     2020560000.0   \n",
       "Other Non Interest Expense                           460443278000.0   \n",
       "\n",
       "                                                         2022-03-31  \\\n",
       "Tax Effect Of Unusual Items                              13705670.0   \n",
       "Tax Rate For Calcs                                            0.242   \n",
       "Total Unusual Items                                      56635000.0   \n",
       "Total Unusual Items Excluding Goodwill                   56635000.0   \n",
       "Net Income From Continuing Operation Net Minori...   251100960000.0   \n",
       "Reconciled Depreciation                               14794572000.0   \n",
       "Net Interest Income                                  542401943000.0   \n",
       "Interest Expense                                     411666711000.0   \n",
       "Interest Income                                      954068654000.0   \n",
       "Normalized Income                                    251058030670.0   \n",
       "Net Income From Continuing And Discontinued Ope...   251100960000.0   \n",
       "Rent Expense Supplemental                             14085917000.0   \n",
       "Diluted Average Shares                                 7075943848.0   \n",
       "Basic Average Shares                                   6933652636.0   \n",
       "Diluted EPS                                                   35.44   \n",
       "Basic EPS                                                     36.21   \n",
       "Diluted NI Availto Com Stockholders                  251100960000.0   \n",
       "Net Income Common Stockholders                       251100960000.0   \n",
       "Net Income                                           251100960000.0   \n",
       "Minority Interests                                   -14281645000.0   \n",
       "Net Income Including Noncontrolling Interests        265382605000.0   \n",
       "Net Income Extraordinary                                        0.0   \n",
       "Net Income Continuous Operations                     265382605000.0   \n",
       "Tax Provision                                         84574400000.0   \n",
       "Pretax Income                                        265382605000.0   \n",
       "Special Income Charges                                   56635000.0   \n",
       "Other Special Charges                                   -56635000.0   \n",
       "Gain On Sale Of Security                              25126881000.0   \n",
       "Depreciation Amortization Depletion Income Stat...    13300074000.0   \n",
       "Depreciation And Amortization In Income Statement     13300074000.0   \n",
       "Depreciation Income Statement                         13300074000.0   \n",
       "Selling General And Administration                   268025456000.0   \n",
       "Selling And Marketing Expense                         49011460000.0   \n",
       "General And Administrative Expense                   219013996000.0   \n",
       "Other Gand A                                           9324939000.0   \n",
       "Insurance And Claims                                  72063619000.0   \n",
       "Rent And Landing Fees                                 14085917000.0   \n",
       "Salaries And Wages                                   123539521000.0   \n",
       "Total Revenue                                       1163639822000.0   \n",
       "Operating Revenue                                   1163639822000.0   \n",
       "Occupancy And Equipment                               26994748000.0   \n",
       "Professional Expense And Contract Services Expense     1926738000.0   \n",
       "Other Non Interest Expense                           421270259000.0   \n",
       "\n",
       "                                                         2021-03-31  \\\n",
       "Tax Effect Of Unusual Items                             -13826432.0   \n",
       "Tax Rate For Calcs                                            0.218   \n",
       "Total Unusual Items                                     -63424000.0   \n",
       "Total Unusual Items Excluding Goodwill                  -63424000.0   \n",
       "Net Income From Continuing Operation Net Minori...   183843186000.0   \n",
       "Reconciled Depreciation                               14713701000.0   \n",
       "Net Interest Income                                  465035764000.0   \n",
       "Interest Expense                                     426590874000.0   \n",
       "Interest Income                                      891626638000.0   \n",
       "Normalized Income                                    183892783568.0   \n",
       "Net Income From Continuing And Discontinued Ope...   183843186000.0   \n",
       "Rent Expense Supplemental                             13829516000.0   \n",
       "Diluted Average Shares                                 6842000000.0   \n",
       "Basic Average Shares                                   6743000000.0   \n",
       "Diluted EPS                                                   26.83   \n",
       "Basic EPS                                                     27.26   \n",
       "Diluted NI Availto Com Stockholders                  183843186000.0   \n",
       "Net Income Common Stockholders                       183843186000.0   \n",
       "Net Income                                           183843186000.0   \n",
       "Minority Interests                                   -19796467000.0   \n",
       "Net Income Including Noncontrolling Interests        203639653000.0   \n",
       "Net Income Extraordinary                                        0.0   \n",
       "Net Income Continuous Operations                     203639653000.0   \n",
       "Tax Provision                                         56643700000.0   \n",
       "Pretax Income                                        203639653000.0   \n",
       "Special Income Charges                                  -63424000.0   \n",
       "Other Special Charges                                    63424000.0   \n",
       "Gain On Sale Of Security                              79823949000.0   \n",
       "Depreciation Amortization Depletion Income Stat...    13400744000.0   \n",
       "Depreciation And Amortization In Income Statement     13400744000.0   \n",
       "Depreciation Income Statement                         13400744000.0   \n",
       "Selling General And Administration                   290155674000.0   \n",
       "Selling And Marketing Expense                         48920061000.0   \n",
       "General And Administrative Expense                   241235613000.0   \n",
       "Other Gand A                                           7951883000.0   \n",
       "Insurance And Claims                                 108819710000.0   \n",
       "Rent And Landing Fees                                 13829516000.0   \n",
       "Salaries And Wages                                   110634504000.0   \n",
       "Total Revenue                                       1185394470000.0   \n",
       "Operating Revenue                                   1185394470000.0   \n",
       "Occupancy And Equipment                               21785244000.0   \n",
       "Professional Expense And Contract Services Expense     2372867000.0   \n",
       "Other Non Interest Expense                           435002167000.0   \n",
       "\n",
       "                                                         2020-03-31  \n",
       "Tax Effect Of Unusual Items                                574200.0  \n",
       "Tax Rate For Calcs                                            0.396  \n",
       "Total Unusual Items                                       1450000.0  \n",
       "Total Unusual Items Excluding Goodwill                    1450000.0  \n",
       "Net Income From Continuing Operation Net Minori...    95663078000.0  \n",
       "Reconciled Depreciation                               13696381000.0  \n",
       "Net Interest Income                                  401702508000.0  \n",
       "Interest Expense                                     446655222000.0  \n",
       "Interest Income                                      848357730000.0  \n",
       "Normalized Income                                     95662202200.0  \n",
       "Net Income From Continuing And Discontinued Ope...    95663078000.0  \n",
       "Rent Expense Supplemental                             15505773000.0  \n",
       "Diluted Average Shares                                 6567000000.0  \n",
       "Basic Average Shares                                   6460000000.0  \n",
       "Diluted EPS                                                   14.55  \n",
       "Basic EPS                                                     14.81  \n",
       "Diluted NI Availto Com Stockholders                   95663078000.0  \n",
       "Net Income Common Stockholders                        95663078000.0  \n",
       "Net Income                                            95663078000.0  \n",
       "Minority Interests                                   -16591602000.0  \n",
       "Net Income Including Noncontrolling Interests        112254680000.0  \n",
       "Net Income Extraordinary                                        NaN  \n",
       "Net Income Continuous Operations                     112254680000.0  \n",
       "Tax Provision                                         73631400000.0  \n",
       "Pretax Income                                        112254680000.0  \n",
       "Special Income Charges                                    1450000.0  \n",
       "Other Special Charges                                    -1450000.0  \n",
       "Gain On Sale Of Security                              32376198000.0  \n",
       "Depreciation Amortization Depletion Income Stat...    11712176000.0  \n",
       "Depreciation And Amortization In Income Statement     11712176000.0  \n",
       "Depreciation Income Statement                         11712176000.0  \n",
       "Selling General And Administration                   279473394000.0  \n",
       "Selling And Marketing Expense                         47429310000.0  \n",
       "General And Administrative Expense                   232044084000.0  \n",
       "Other Gand A                                           8739095000.0  \n",
       "Insurance And Claims                                  96103596000.0  \n",
       "Rent And Landing Fees                                 15505773000.0  \n",
       "Salaries And Wages                                   111695620000.0  \n",
       "Total Revenue                                       1049452128000.0  \n",
       "Operating Revenue                                   1049452128000.0  \n",
       "Occupancy And Equipment                               20160035000.0  \n",
       "Professional Expense And Contract Services Expense     2167902000.0  \n",
       "Other Non Interest Expense                           401665481000.0  "
      ],
      "text/html": [
       "<div>\n",
       "<style scoped>\n",
       "    .dataframe tbody tr th:only-of-type {\n",
       "        vertical-align: middle;\n",
       "    }\n",
       "\n",
       "    .dataframe tbody tr th {\n",
       "        vertical-align: top;\n",
       "    }\n",
       "\n",
       "    .dataframe thead th {\n",
       "        text-align: right;\n",
       "    }\n",
       "</style>\n",
       "<table border=\"1\" class=\"dataframe\">\n",
       "  <thead>\n",
       "    <tr style=\"text-align: right;\">\n",
       "      <th></th>\n",
       "      <th>2023-03-31</th>\n",
       "      <th>2022-03-31</th>\n",
       "      <th>2021-03-31</th>\n",
       "      <th>2020-03-31</th>\n",
       "    </tr>\n",
       "  </thead>\n",
       "  <tbody>\n",
       "    <tr>\n",
       "      <th>Tax Effect Of Unusual Items</th>\n",
       "      <td>135644750.0</td>\n",
       "      <td>13705670.0</td>\n",
       "      <td>-13826432.0</td>\n",
       "      <td>574200.0</td>\n",
       "    </tr>\n",
       "    <tr>\n",
       "      <th>Tax Rate For Calcs</th>\n",
       "      <td>0.25</td>\n",
       "      <td>0.242</td>\n",
       "      <td>0.218</td>\n",
       "      <td>0.396</td>\n",
       "    </tr>\n",
       "    <tr>\n",
       "      <th>Total Unusual Items</th>\n",
       "      <td>542579000.0</td>\n",
       "      <td>56635000.0</td>\n",
       "      <td>-63424000.0</td>\n",
       "      <td>1450000.0</td>\n",
       "    </tr>\n",
       "    <tr>\n",
       "      <th>Total Unusual Items Excluding Goodwill</th>\n",
       "      <td>542579000.0</td>\n",
       "      <td>56635000.0</td>\n",
       "      <td>-63424000.0</td>\n",
       "      <td>1450000.0</td>\n",
       "    </tr>\n",
       "    <tr>\n",
       "      <th>Net Income From Continuing Operation Net Minority Interest</th>\n",
       "      <td>340366408000.0</td>\n",
       "      <td>251100960000.0</td>\n",
       "      <td>183843186000.0</td>\n",
       "      <td>95663078000.0</td>\n",
       "    </tr>\n",
       "    <tr>\n",
       "      <th>Reconciled Depreciation</th>\n",
       "      <td>16455886000.0</td>\n",
       "      <td>14794572000.0</td>\n",
       "      <td>14713701000.0</td>\n",
       "      <td>13696381000.0</td>\n",
       "    </tr>\n",
       "    <tr>\n",
       "      <th>Net Interest Income</th>\n",
       "      <td>705234219000.0</td>\n",
       "      <td>542401943000.0</td>\n",
       "      <td>465035764000.0</td>\n",
       "      <td>401702508000.0</td>\n",
       "    </tr>\n",
       "    <tr>\n",
       "      <th>Interest Expense</th>\n",
       "      <td>505433879000.0</td>\n",
       "      <td>411666711000.0</td>\n",
       "      <td>426590874000.0</td>\n",
       "      <td>446655222000.0</td>\n",
       "    </tr>\n",
       "    <tr>\n",
       "      <th>Interest Income</th>\n",
       "      <td>1210668098000.0</td>\n",
       "      <td>954068654000.0</td>\n",
       "      <td>891626638000.0</td>\n",
       "      <td>848357730000.0</td>\n",
       "    </tr>\n",
       "    <tr>\n",
       "      <th>Normalized Income</th>\n",
       "      <td>339959473750.0</td>\n",
       "      <td>251058030670.0</td>\n",
       "      <td>183892783568.0</td>\n",
       "      <td>95662202200.0</td>\n",
       "    </tr>\n",
       "    <tr>\n",
       "      <th>Net Income From Continuing And Discontinued Operation</th>\n",
       "      <td>340366408000.0</td>\n",
       "      <td>251100960000.0</td>\n",
       "      <td>183843186000.0</td>\n",
       "      <td>95663078000.0</td>\n",
       "    </tr>\n",
       "    <tr>\n",
       "      <th>Rent Expense Supplemental</th>\n",
       "      <td>15846567000.0</td>\n",
       "      <td>14085917000.0</td>\n",
       "      <td>13829516000.0</td>\n",
       "      <td>15505773000.0</td>\n",
       "    </tr>\n",
       "    <tr>\n",
       "      <th>Diluted Average Shares</th>\n",
       "      <td>7104990357.0</td>\n",
       "      <td>7075943848.0</td>\n",
       "      <td>6842000000.0</td>\n",
       "      <td>6567000000.0</td>\n",
       "    </tr>\n",
       "    <tr>\n",
       "      <th>Basic Average Shares</th>\n",
       "      <td>6966305957.0</td>\n",
       "      <td>6933652636.0</td>\n",
       "      <td>6743000000.0</td>\n",
       "      <td>6460000000.0</td>\n",
       "    </tr>\n",
       "    <tr>\n",
       "      <th>Diluted EPS</th>\n",
       "      <td>47.84</td>\n",
       "      <td>35.44</td>\n",
       "      <td>26.83</td>\n",
       "      <td>14.55</td>\n",
       "    </tr>\n",
       "    <tr>\n",
       "      <th>Basic EPS</th>\n",
       "      <td>48.86</td>\n",
       "      <td>36.21</td>\n",
       "      <td>27.26</td>\n",
       "      <td>14.81</td>\n",
       "    </tr>\n",
       "    <tr>\n",
       "      <th>Diluted NI Availto Com Stockholders</th>\n",
       "      <td>340366408000.0</td>\n",
       "      <td>251100960000.0</td>\n",
       "      <td>183843186000.0</td>\n",
       "      <td>95663078000.0</td>\n",
       "    </tr>\n",
       "    <tr>\n",
       "      <th>Net Income Common Stockholders</th>\n",
       "      <td>340366408000.0</td>\n",
       "      <td>251100960000.0</td>\n",
       "      <td>183843186000.0</td>\n",
       "      <td>95663078000.0</td>\n",
       "    </tr>\n",
       "    <tr>\n",
       "      <th>Net Income</th>\n",
       "      <td>340366408000.0</td>\n",
       "      <td>251100960000.0</td>\n",
       "      <td>183843186000.0</td>\n",
       "      <td>95663078000.0</td>\n",
       "    </tr>\n",
       "    <tr>\n",
       "      <th>Minority Interests</th>\n",
       "      <td>-14246738000.0</td>\n",
       "      <td>-14281645000.0</td>\n",
       "      <td>-19796467000.0</td>\n",
       "      <td>-16591602000.0</td>\n",
       "    </tr>\n",
       "    <tr>\n",
       "      <th>Net Income Including Noncontrolling Interests</th>\n",
       "      <td>354613146000.0</td>\n",
       "      <td>265382605000.0</td>\n",
       "      <td>203639653000.0</td>\n",
       "      <td>112254680000.0</td>\n",
       "    </tr>\n",
       "    <tr>\n",
       "      <th>Net Income Extraordinary</th>\n",
       "      <td>0.0</td>\n",
       "      <td>0.0</td>\n",
       "      <td>0.0</td>\n",
       "      <td>NaN</td>\n",
       "    </tr>\n",
       "    <tr>\n",
       "      <th>Net Income Continuous Operations</th>\n",
       "      <td>354613146000.0</td>\n",
       "      <td>265382605000.0</td>\n",
       "      <td>203639653000.0</td>\n",
       "      <td>112254680000.0</td>\n",
       "    </tr>\n",
       "    <tr>\n",
       "      <th>Tax Provision</th>\n",
       "      <td>117934400000.0</td>\n",
       "      <td>84574400000.0</td>\n",
       "      <td>56643700000.0</td>\n",
       "      <td>73631400000.0</td>\n",
       "    </tr>\n",
       "    <tr>\n",
       "      <th>Pretax Income</th>\n",
       "      <td>354613146000.0</td>\n",
       "      <td>265382605000.0</td>\n",
       "      <td>203639653000.0</td>\n",
       "      <td>112254680000.0</td>\n",
       "    </tr>\n",
       "    <tr>\n",
       "      <th>Special Income Charges</th>\n",
       "      <td>542579000.0</td>\n",
       "      <td>56635000.0</td>\n",
       "      <td>-63424000.0</td>\n",
       "      <td>1450000.0</td>\n",
       "    </tr>\n",
       "    <tr>\n",
       "      <th>Other Special Charges</th>\n",
       "      <td>-542579000.0</td>\n",
       "      <td>-56635000.0</td>\n",
       "      <td>63424000.0</td>\n",
       "      <td>-1450000.0</td>\n",
       "    </tr>\n",
       "    <tr>\n",
       "      <th>Gain On Sale Of Security</th>\n",
       "      <td>11412527000.0</td>\n",
       "      <td>25126881000.0</td>\n",
       "      <td>79823949000.0</td>\n",
       "      <td>32376198000.0</td>\n",
       "    </tr>\n",
       "    <tr>\n",
       "      <th>Depreciation Amortization Depletion Income Statement</th>\n",
       "      <td>15145592000.0</td>\n",
       "      <td>13300074000.0</td>\n",
       "      <td>13400744000.0</td>\n",
       "      <td>11712176000.0</td>\n",
       "    </tr>\n",
       "    <tr>\n",
       "      <th>Depreciation And Amortization In Income Statement</th>\n",
       "      <td>15145592000.0</td>\n",
       "      <td>13300074000.0</td>\n",
       "      <td>13400744000.0</td>\n",
       "      <td>11712176000.0</td>\n",
       "    </tr>\n",
       "    <tr>\n",
       "      <th>Depreciation Income Statement</th>\n",
       "      <td>15145592000.0</td>\n",
       "      <td>13300074000.0</td>\n",
       "      <td>13400744000.0</td>\n",
       "      <td>11712176000.0</td>\n",
       "    </tr>\n",
       "    <tr>\n",
       "      <th>Selling General And Administration</th>\n",
       "      <td>312136641000.0</td>\n",
       "      <td>268025456000.0</td>\n",
       "      <td>290155674000.0</td>\n",
       "      <td>279473394000.0</td>\n",
       "    </tr>\n",
       "    <tr>\n",
       "      <th>Selling And Marketing Expense</th>\n",
       "      <td>65407090000.0</td>\n",
       "      <td>49011460000.0</td>\n",
       "      <td>48920061000.0</td>\n",
       "      <td>47429310000.0</td>\n",
       "    </tr>\n",
       "    <tr>\n",
       "      <th>General And Administrative Expense</th>\n",
       "      <td>246729551000.0</td>\n",
       "      <td>219013996000.0</td>\n",
       "      <td>241235613000.0</td>\n",
       "      <td>232044084000.0</td>\n",
       "    </tr>\n",
       "    <tr>\n",
       "      <th>Other Gand A</th>\n",
       "      <td>10188362000.0</td>\n",
       "      <td>9324939000.0</td>\n",
       "      <td>7951883000.0</td>\n",
       "      <td>8739095000.0</td>\n",
       "    </tr>\n",
       "    <tr>\n",
       "      <th>Insurance And Claims</th>\n",
       "      <td>68215530000.0</td>\n",
       "      <td>72063619000.0</td>\n",
       "      <td>108819710000.0</td>\n",
       "      <td>96103596000.0</td>\n",
       "    </tr>\n",
       "    <tr>\n",
       "      <th>Rent And Landing Fees</th>\n",
       "      <td>15846567000.0</td>\n",
       "      <td>14085917000.0</td>\n",
       "      <td>13829516000.0</td>\n",
       "      <td>15505773000.0</td>\n",
       "    </tr>\n",
       "    <tr>\n",
       "      <th>Salaries And Wages</th>\n",
       "      <td>152479092000.0</td>\n",
       "      <td>123539521000.0</td>\n",
       "      <td>110634504000.0</td>\n",
       "      <td>111695620000.0</td>\n",
       "    </tr>\n",
       "    <tr>\n",
       "      <th>Total Revenue</th>\n",
       "      <td>1355811552000.0</td>\n",
       "      <td>1163639822000.0</td>\n",
       "      <td>1185394470000.0</td>\n",
       "      <td>1049452128000.0</td>\n",
       "    </tr>\n",
       "    <tr>\n",
       "      <th>Operating Revenue</th>\n",
       "      <td>1355811552000.0</td>\n",
       "      <td>1163639822000.0</td>\n",
       "      <td>1185394470000.0</td>\n",
       "      <td>1049452128000.0</td>\n",
       "    </tr>\n",
       "    <tr>\n",
       "      <th>Occupancy And Equipment</th>\n",
       "      <td>34644161000.0</td>\n",
       "      <td>26994748000.0</td>\n",
       "      <td>21785244000.0</td>\n",
       "      <td>20160035000.0</td>\n",
       "    </tr>\n",
       "    <tr>\n",
       "      <th>Professional Expense And Contract Services Expense</th>\n",
       "      <td>2020560000.0</td>\n",
       "      <td>1926738000.0</td>\n",
       "      <td>2372867000.0</td>\n",
       "      <td>2167902000.0</td>\n",
       "    </tr>\n",
       "    <tr>\n",
       "      <th>Other Non Interest Expense</th>\n",
       "      <td>460443278000.0</td>\n",
       "      <td>421270259000.0</td>\n",
       "      <td>435002167000.0</td>\n",
       "      <td>401665481000.0</td>\n",
       "    </tr>\n",
       "  </tbody>\n",
       "</table>\n",
       "</div>"
      ]
     },
     "execution_count": 127,
     "metadata": {},
     "output_type": "execute_result"
    }
   ],
   "execution_count": 127
  },
  {
   "cell_type": "code",
   "execution_count": 45,
   "metadata": {},
   "outputs": [],
   "source": [
    "lst = list()"
   ]
  },
  {
   "cell_type": "code",
   "metadata": {
    "ExecuteTime": {
     "end_time": "2024-07-31T07:26:32.113556Z",
     "start_time": "2024-07-31T07:26:32.100366Z"
    }
   },
   "source": [
    "def update_dict():\n",
    "    \n",
    "    for i in tickers_dict:\n",
    "        try:\n",
    "            end_date = datetime.today()\n",
    "            print(i)\n",
    "            start_date = end_date - timedelta(days=120)  # 4 months before today\n",
    "\n",
    "            # Fetch stock data using yfinance\n",
    "            df = yf.download(i, start=start_date, end=end_date)\n",
    "            stock_data = df.copy()\n",
    "\n",
    "            # Calculate technical indicators using pandas-ta\n",
    "            stock_data.ta.macd(append=True)\n",
    "            stock_data.ta.rsi(append=True)\n",
    "            \n",
    "\n",
    "\n",
    "            financials = yf.Ticker(i).financials\n",
    "            eps_list = financials.loc['Diluted EPS'].tolist()\n",
    "\n",
    "            balance_sheet = yf.Ticker(i).balance_sheet\n",
    "            book_value = balance_sheet.loc['Tangible Book Value'].tolist()\n",
    "\n",
    "\n",
    "            income_list = financials.loc['Net Income'].tolist()\n",
    "            net_income = next((x for x in income_list if x is not None and pd.notna(x)), None)\n",
    "            \n",
    "            market_cap = yf.Ticker(i).fast_info['marketCap']\n",
    "            net_income = net_income / market_cap\n",
    "\n",
    "            market_price = df.iloc[-1]['Close']\n",
    "\n",
    "            # Retrieve the relevant data\n",
    "            book_value = balance_sheet.loc['Tangible Book Value'].tolist()\n",
    "            book_value = next((x for x in book_value if x is not None and pd.notna(x)), None)\n",
    "\n",
    "            num_shares = balance_sheet.loc['Ordinary Shares Number'].tolist()\n",
    "            num_shares = next((x for x in num_shares if x is not None and pd.notna(x)), None)\n",
    "\n",
    "            # Calculate Book Value per Share\n",
    "            book_value_per_share = book_value / num_shares\n",
    "\n",
    "            # Calculate P/B Ratio\n",
    "            pb_ratio = market_price / book_value_per_share\n",
    "\n",
    "            # Calculate EPS\n",
    "            eps = net_income / num_shares\n",
    "\n",
    "            # Calculate P/E Ratio\n",
    "            pe_ratio = market_price / eps\n",
    "\n",
    "\n",
    "            tickers_dict[i]['rsi'] = stock_data.iloc[-1]['RSI_14']\n",
    "            tickers_dict[i]['MACD_12_26_9'] = stock_data.iloc[-1]['MACD_12_26_9']\n",
    "            tickers_dict[i]['eps'] = next((x for x in eps_list if x is not None and pd.notna(x)), None)\n",
    "            # tickers_dict[i]['book_value'] = next((x for x in book_value if x is not None and pd.notna(x)), None)\n",
    "            tickers_dict[i]['pe_ratio'] = pe_ratio\n",
    "            tickers_dict[i]['pb_ratio'] = pb_ratio\n",
    "\n",
    "        except:\n",
    "            lst.append(i)\n",
    "            print(f\"error occured for stock - {i}\")"
   ],
   "outputs": [],
   "execution_count": 36
  },
  {
   "cell_type": "code",
   "metadata": {
    "ExecuteTime": {
     "end_time": "2024-07-31T07:26:59.571077Z",
     "start_time": "2024-07-31T07:26:34.414930Z"
    }
   },
   "source": [
    "update_dict()"
   ],
   "outputs": [
    {
     "name": "stdout",
     "output_type": "stream",
     "text": [
      "RELIANCE.NS\n"
     ]
    },
    {
     "name": "stderr",
     "output_type": "stream",
     "text": [
      "[*********************100%%**********************]  1 of 1 completed\n"
     ]
    },
    {
     "name": "stdout",
     "output_type": "stream",
     "text": [
      "TCS.NS\n"
     ]
    },
    {
     "name": "stderr",
     "output_type": "stream",
     "text": [
      "[*********************100%%**********************]  1 of 1 completed\n",
      "[*********************100%%**********************]  1 of 1 completed"
     ]
    },
    {
     "name": "stdout",
     "output_type": "stream",
     "text": [
      "HDFCBANK.NS\n"
     ]
    },
    {
     "name": "stderr",
     "output_type": "stream",
     "text": [
      "\n"
     ]
    },
    {
     "name": "stdout",
     "output_type": "stream",
     "text": [
      "INFY.NS\n"
     ]
    },
    {
     "name": "stderr",
     "output_type": "stream",
     "text": [
      "[*********************100%%**********************]  1 of 1 completed\n"
     ]
    },
    {
     "name": "stdout",
     "output_type": "stream",
     "text": [
      "HINDUNILVR.NS\n"
     ]
    },
    {
     "name": "stderr",
     "output_type": "stream",
     "text": [
      "[*********************100%%**********************]  1 of 1 completed\n"
     ]
    },
    {
     "name": "stdout",
     "output_type": "stream",
     "text": [
      "ICICIBANK.NS\n"
     ]
    },
    {
     "name": "stderr",
     "output_type": "stream",
     "text": [
      "[*********************100%%**********************]  1 of 1 completed\n"
     ]
    },
    {
     "name": "stdout",
     "output_type": "stream",
     "text": [
      "KOTAKBANK.NS\n"
     ]
    },
    {
     "name": "stderr",
     "output_type": "stream",
     "text": [
      "[*********************100%%**********************]  1 of 1 completed\n",
      "[*********************100%%**********************]  1 of 1 completed"
     ]
    },
    {
     "name": "stdout",
     "output_type": "stream",
     "text": [
      "BAJFINANCE.NS\n"
     ]
    },
    {
     "name": "stderr",
     "output_type": "stream",
     "text": [
      "\n"
     ]
    },
    {
     "name": "stdout",
     "output_type": "stream",
     "text": [
      "ITC.NS\n"
     ]
    },
    {
     "name": "stderr",
     "output_type": "stream",
     "text": [
      "[*********************100%%**********************]  1 of 1 completed\n",
      "[*********************100%%**********************]  1 of 1 completed"
     ]
    },
    {
     "name": "stdout",
     "output_type": "stream",
     "text": [
      "BHARTIARTL.NS\n"
     ]
    },
    {
     "name": "stderr",
     "output_type": "stream",
     "text": [
      "\n"
     ]
    },
    {
     "name": "stdout",
     "output_type": "stream",
     "text": [
      "ASIANPAINT.NS\n"
     ]
    },
    {
     "name": "stderr",
     "output_type": "stream",
     "text": [
      "[*********************100%%**********************]  1 of 1 completed\n"
     ]
    },
    {
     "name": "stdout",
     "output_type": "stream",
     "text": [
      "LT.NS\n"
     ]
    },
    {
     "name": "stderr",
     "output_type": "stream",
     "text": [
      "[*********************100%%**********************]  1 of 1 completed\n"
     ]
    },
    {
     "name": "stdout",
     "output_type": "stream",
     "text": [
      "AXISBANK.NS\n"
     ]
    },
    {
     "name": "stderr",
     "output_type": "stream",
     "text": [
      "[*********************100%%**********************]  1 of 1 completed\n",
      "[*********************100%%**********************]  1 of 1 completed"
     ]
    },
    {
     "name": "stdout",
     "output_type": "stream",
     "text": [
      "SBIN.NS\n"
     ]
    },
    {
     "name": "stderr",
     "output_type": "stream",
     "text": [
      "\n"
     ]
    },
    {
     "name": "stdout",
     "output_type": "stream",
     "text": [
      "MARUTI.NS\n"
     ]
    },
    {
     "name": "stderr",
     "output_type": "stream",
     "text": [
      "[*********************100%%**********************]  1 of 1 completed\n"
     ]
    },
    {
     "name": "stdout",
     "output_type": "stream",
     "text": [
      "HCLTECH.NS\n"
     ]
    },
    {
     "name": "stderr",
     "output_type": "stream",
     "text": [
      "[*********************100%%**********************]  1 of 1 completed\n",
      "[*********************100%%**********************]  1 of 1 completed"
     ]
    },
    {
     "name": "stdout",
     "output_type": "stream",
     "text": [
      "SUNPHARMA.NS\n"
     ]
    },
    {
     "name": "stderr",
     "output_type": "stream",
     "text": [
      "\n",
      "[*********************100%%**********************]  1 of 1 completed"
     ]
    },
    {
     "name": "stdout",
     "output_type": "stream",
     "text": [
      "ULTRACEMCO.NS\n"
     ]
    },
    {
     "name": "stderr",
     "output_type": "stream",
     "text": [
      "\n",
      "[*********************100%%**********************]  1 of 1 completed"
     ]
    },
    {
     "name": "stdout",
     "output_type": "stream",
     "text": [
      "NESTLEIND.NS\n"
     ]
    },
    {
     "name": "stderr",
     "output_type": "stream",
     "text": [
      "\n",
      "[*********************100%%**********************]  1 of 1 completed"
     ]
    },
    {
     "name": "stdout",
     "output_type": "stream",
     "text": [
      "TITAN.NS\n"
     ]
    },
    {
     "name": "stderr",
     "output_type": "stream",
     "text": [
      "\n"
     ]
    },
    {
     "name": "stdout",
     "output_type": "stream",
     "text": [
      "TATASTEEL.NS\n"
     ]
    },
    {
     "name": "stderr",
     "output_type": "stream",
     "text": [
      "[*********************100%%**********************]  1 of 1 completed\n"
     ]
    },
    {
     "name": "stdout",
     "output_type": "stream",
     "text": [
      "WIPRO.NS\n"
     ]
    },
    {
     "name": "stderr",
     "output_type": "stream",
     "text": [
      "[*********************100%%**********************]  1 of 1 completed\n",
      "[*********************100%%**********************]  1 of 1 completed"
     ]
    },
    {
     "name": "stdout",
     "output_type": "stream",
     "text": [
      "ADANIGREEN.NS\n"
     ]
    },
    {
     "name": "stderr",
     "output_type": "stream",
     "text": [
      "\n"
     ]
    },
    {
     "name": "stdout",
     "output_type": "stream",
     "text": [
      "DIVISLAB.NS\n"
     ]
    },
    {
     "name": "stderr",
     "output_type": "stream",
     "text": [
      "[*********************100%%**********************]  1 of 1 completed\n"
     ]
    },
    {
     "name": "stdout",
     "output_type": "stream",
     "text": [
      "M&M.NS\n"
     ]
    },
    {
     "name": "stderr",
     "output_type": "stream",
     "text": [
      "[*********************100%%**********************]  1 of 1 completed\n"
     ]
    },
    {
     "name": "stdout",
     "output_type": "stream",
     "text": [
      "BAJAJFINSV.NS\n"
     ]
    },
    {
     "name": "stderr",
     "output_type": "stream",
     "text": [
      "[*********************100%%**********************]  1 of 1 completed\n"
     ]
    },
    {
     "name": "stdout",
     "output_type": "stream",
     "text": [
      "POWERGRID.NS\n"
     ]
    },
    {
     "name": "stderr",
     "output_type": "stream",
     "text": [
      "[*********************100%%**********************]  1 of 1 completed\n"
     ]
    },
    {
     "name": "stdout",
     "output_type": "stream",
     "text": [
      "NTPC.NS\n"
     ]
    },
    {
     "name": "stderr",
     "output_type": "stream",
     "text": [
      "[*********************100%%**********************]  1 of 1 completed\n"
     ]
    },
    {
     "name": "stdout",
     "output_type": "stream",
     "text": [
      "GRASIM.NS\n"
     ]
    },
    {
     "name": "stderr",
     "output_type": "stream",
     "text": [
      "[*********************100%%**********************]  1 of 1 completed\n"
     ]
    },
    {
     "name": "stdout",
     "output_type": "stream",
     "text": [
      "TECHM.NS\n"
     ]
    },
    {
     "name": "stderr",
     "output_type": "stream",
     "text": [
      "[*********************100%%**********************]  1 of 1 completed\n"
     ]
    },
    {
     "name": "stdout",
     "output_type": "stream",
     "text": [
      "ONGC.NS\n"
     ]
    },
    {
     "name": "stderr",
     "output_type": "stream",
     "text": [
      "[*********************100%%**********************]  1 of 1 completed\n"
     ]
    },
    {
     "name": "stdout",
     "output_type": "stream",
     "text": [
      "JSWSTEEL.NS\n"
     ]
    },
    {
     "name": "stderr",
     "output_type": "stream",
     "text": [
      "[*********************100%%**********************]  1 of 1 completed\n"
     ]
    },
    {
     "name": "stdout",
     "output_type": "stream",
     "text": [
      "CIPLA.NS\n"
     ]
    },
    {
     "name": "stderr",
     "output_type": "stream",
     "text": [
      "[*********************100%%**********************]  1 of 1 completed\n",
      "[*********************100%%**********************]  1 of 1 completed"
     ]
    },
    {
     "name": "stdout",
     "output_type": "stream",
     "text": [
      "HEROMOTOCO.NS\n"
     ]
    },
    {
     "name": "stderr",
     "output_type": "stream",
     "text": [
      "\n"
     ]
    },
    {
     "name": "stdout",
     "output_type": "stream",
     "text": [
      "BPCL.NS\n"
     ]
    },
    {
     "name": "stderr",
     "output_type": "stream",
     "text": [
      "[*********************100%%**********************]  1 of 1 completed\n",
      "[*********************100%%**********************]  1 of 1 completed"
     ]
    },
    {
     "name": "stdout",
     "output_type": "stream",
     "text": [
      "ADANIPORTS.NS\n"
     ]
    },
    {
     "name": "stderr",
     "output_type": "stream",
     "text": [
      "\n"
     ]
    },
    {
     "name": "stdout",
     "output_type": "stream",
     "text": [
      "SHREECEM.NS\n"
     ]
    },
    {
     "name": "stderr",
     "output_type": "stream",
     "text": [
      "[*********************100%%**********************]  1 of 1 completed\n"
     ]
    },
    {
     "name": "stdout",
     "output_type": "stream",
     "text": [
      "COALINDIA.NS\n"
     ]
    },
    {
     "name": "stderr",
     "output_type": "stream",
     "text": [
      "[*********************100%%**********************]  1 of 1 completed\n",
      "[*********************100%%**********************]  1 of 1 completed"
     ]
    },
    {
     "name": "stdout",
     "output_type": "stream",
     "text": [
      "SBILIFE.NS\n"
     ]
    },
    {
     "name": "stderr",
     "output_type": "stream",
     "text": [
      "\n"
     ]
    },
    {
     "name": "stdout",
     "output_type": "stream",
     "text": [
      "BRITANNIA.NS\n"
     ]
    },
    {
     "name": "stderr",
     "output_type": "stream",
     "text": [
      "[*********************100%%**********************]  1 of 1 completed\n"
     ]
    },
    {
     "name": "stdout",
     "output_type": "stream",
     "text": [
      "EICHERMOT.NS\n"
     ]
    },
    {
     "name": "stderr",
     "output_type": "stream",
     "text": [
      "[*********************100%%**********************]  1 of 1 completed\n",
      "[*********************100%%**********************]  1 of 1 completed"
     ]
    },
    {
     "name": "stdout",
     "output_type": "stream",
     "text": [
      "UPL.NS\n"
     ]
    },
    {
     "name": "stderr",
     "output_type": "stream",
     "text": [
      "\n"
     ]
    },
    {
     "name": "stdout",
     "output_type": "stream",
     "text": [
      "DRREDDY.NS\n"
     ]
    },
    {
     "name": "stderr",
     "output_type": "stream",
     "text": [
      "[*********************100%%**********************]  1 of 1 completed\n"
     ]
    },
    {
     "name": "stdout",
     "output_type": "stream",
     "text": [
      "BAJAJ-AUTO.NS\n"
     ]
    },
    {
     "name": "stderr",
     "output_type": "stream",
     "text": [
      "[*********************100%%**********************]  1 of 1 completed\n"
     ]
    },
    {
     "name": "stdout",
     "output_type": "stream",
     "text": [
      "INDUSINDBK.NS\n"
     ]
    },
    {
     "name": "stderr",
     "output_type": "stream",
     "text": [
      "[*********************100%%**********************]  1 of 1 completed\n"
     ]
    },
    {
     "name": "stdout",
     "output_type": "stream",
     "text": [
      "IOC.NS\n"
     ]
    },
    {
     "name": "stderr",
     "output_type": "stream",
     "text": [
      "[*********************100%%**********************]  1 of 1 completed\n"
     ]
    },
    {
     "name": "stdout",
     "output_type": "stream",
     "text": [
      "HINDALCO.NS\n"
     ]
    },
    {
     "name": "stderr",
     "output_type": "stream",
     "text": [
      "[*********************100%%**********************]  1 of 1 completed\n"
     ]
    },
    {
     "name": "stdout",
     "output_type": "stream",
     "text": [
      "TATACONSUM.NS\n"
     ]
    },
    {
     "name": "stderr",
     "output_type": "stream",
     "text": [
      "[*********************100%%**********************]  1 of 1 completed\n"
     ]
    },
    {
     "name": "stdout",
     "output_type": "stream",
     "text": [
      "VEDL.NS\n"
     ]
    },
    {
     "name": "stderr",
     "output_type": "stream",
     "text": [
      "[*********************100%%**********************]  1 of 1 completed\n"
     ]
    }
   ],
   "execution_count": 37
  },
  {
   "cell_type": "code",
   "execution_count": 49,
   "metadata": {},
   "outputs": [],
   "source": [
    "# tickers_dict"
   ]
  },
  {
   "cell_type": "code",
   "metadata": {
    "ExecuteTime": {
     "end_time": "2024-07-31T08:18:34.585639Z",
     "start_time": "2024-07-31T08:18:34.576666Z"
    }
   },
   "source": [
    "# Convert the dictionary to a DataFrame\n",
    "df = pd.DataFrame(tickers_dict)\n",
    "\n",
    "# Transpose the DataFrame to have stocks as rows and metrics as columns\n",
    "df = df.T"
   ],
   "outputs": [],
   "execution_count": 117
  },
  {
   "metadata": {
    "ExecuteTime": {
     "end_time": "2024-07-31T08:18:37.459927Z",
     "start_time": "2024-07-31T08:18:37.452232Z"
    }
   },
   "cell_type": "code",
   "source": "df",
   "outputs": [
    {
     "data": {
      "text/plain": [
       "                     rsi  MACD_12_26_9         eps      pe_ratio    pb_ratio\n",
       "RELIANCE.NS    45.086378     -4.851933   25.520000    107.494888    4.703539\n",
       "TCS.NS         74.179618    124.366984   30.290000    127.699512   18.025540\n",
       "HDFCBANK.NS    47.685490     -3.935713   21.590000     74.592485    2.582612\n",
       "INFY.NS        81.058954     83.085722    0.180000  10131.895195  868.513205\n",
       "HINDUNILVR.NS  62.365843     57.762165   11.110000    242.250961  114.854679\n",
       "ICICIBANK.NS   50.287206      9.885731   16.320000     76.760956    3.480946\n",
       "KOTAKBANK.NS   49.840750      2.290973   37.470000     47.768596    2.757536\n",
       "BAJFINANCE.NS  43.870135    -85.583398   63.110000    107.798081    5.564429\n",
       "ITC.NS         68.346814     16.126407    4.260000    119.896530    8.642178\n",
       "BHARTIARTL.NS  59.641923     18.991139    4.140000    435.477681  -13.518805\n",
       "ASIANPAINT.NS  68.245893     21.678544   12.200000    252.827248   16.539943\n",
       "LT.NS          63.734241     36.949389   20.250000    187.417350    8.555260\n",
       "AXISBANK.NS    29.966433    -16.262987   20.690000     56.008178    2.189451\n",
       "SBIN.NS        55.165865      7.251290   12.400000     36.332147    1.872400\n",
       "MARUTI.NS      63.720456     98.832335  102.000000    102.975736    4.790846\n",
       "HCLTECH.NS     75.628287     45.443154   15.690000    104.130725   10.811553\n",
       "SUNPHARMA.NS   74.415174     47.345544   10.500000    155.678661    8.906201\n",
       "ULTRACEMCO.NS  62.011935    177.456226   58.820000    202.161638    7.091777\n",
       "NESTLEIND.NS   35.162261    -17.962144    7.740000    318.329413   83.194098\n",
       "TITAN.NS       57.147417     25.655568   11.900000    397.624481   34.230513\n",
       "TATASTEEL.NS   45.453612     -2.998636    0.420000    336.198712    2.802325\n",
       "WIPRO.NS       50.273469      3.536908    5.730000     90.560880    6.280132\n",
       "ADANIGREEN.NS  62.449588      7.336938    2.630000    658.527771   30.151256\n",
       "DIVISLAB.NS    68.324823     95.461482   13.500000    243.463689    9.528947\n",
       "M&M.NS         63.385442     39.877825   23.760000    128.901834    6.467380\n",
       "BAJAJFINSV.NS  61.657221     10.027085   13.300000    122.909776    4.490543\n",
       "POWERGRID.NS   61.585941      4.859604    4.000000     86.939039    3.786982\n",
       "NTPC.NS        67.599823      7.493379    5.650000     72.085449    2.464317\n",
       "GRASIM.NS      57.135432     59.180603   22.958711    137.811032    3.142741\n",
       "TECHM.NS       67.318909     36.152915    9.600000    160.439864    8.369041\n",
       "ONGC.NS        69.233627     14.196079    8.230000     38.174683    1.302682\n",
       "JSWSTEEL.NS    53.621346     -5.627053    3.450000    265.910351    3.016557\n",
       "CIPLA.NS       56.995121     11.021607   14.570000    105.593111    5.654002\n",
       "HEROMOTOCO.NS  49.105655     -5.399916   54.590000    116.808641    6.501657\n",
       "BPCL.NS        72.313002      8.906409    6.650000     53.163508    2.435353\n",
       "ADANIPORTS.NS  67.652073     25.542065   10.220000    166.464337    9.769204\n",
       "SHREECEM.NS    52.650291    102.307337  194.540000    147.844828    4.848401\n",
       "COALINDIA.NS   66.786475      8.395750   14.720000     23.742492    4.248619\n",
       "SBILIFE.NS     73.636303     66.748671    5.180000    338.344507   11.288355\n",
       "BRITANNIA.NS   63.250604    115.297130   23.110000    261.273270   37.002256\n",
       "EICHERMOT.NS   61.594155     57.118663   36.310000    127.309583    8.011696\n",
       "UPL.NS         60.449907      0.721120  -17.110000   1072.336864  -12.563994\n",
       "DRREDDY.NS     63.032928    157.150690   83.460000     81.020978    4.453302\n",
       "BAJAJ-AUTO.NS  57.006538      9.065233   69.600000    138.740896    9.310871\n",
       "INDUSINDBK.NS  47.382983    -14.118427   27.850000     51.180113    1.757721\n",
       "IOC.NS         65.323919      3.148734    6.560000     49.887707    1.460604\n",
       "HINDALCO.NS    46.866365     -5.681232   10.490000     47.057487    2.022320\n",
       "TATACONSUM.NS  53.303267     21.711876    3.000000    517.674787 -180.434884\n",
       "VEDL.NS        49.920394     -1.939883    5.380000    121.409084    6.413375"
      ],
      "text/html": [
       "<div>\n",
       "<style scoped>\n",
       "    .dataframe tbody tr th:only-of-type {\n",
       "        vertical-align: middle;\n",
       "    }\n",
       "\n",
       "    .dataframe tbody tr th {\n",
       "        vertical-align: top;\n",
       "    }\n",
       "\n",
       "    .dataframe thead th {\n",
       "        text-align: right;\n",
       "    }\n",
       "</style>\n",
       "<table border=\"1\" class=\"dataframe\">\n",
       "  <thead>\n",
       "    <tr style=\"text-align: right;\">\n",
       "      <th></th>\n",
       "      <th>rsi</th>\n",
       "      <th>MACD_12_26_9</th>\n",
       "      <th>eps</th>\n",
       "      <th>pe_ratio</th>\n",
       "      <th>pb_ratio</th>\n",
       "    </tr>\n",
       "  </thead>\n",
       "  <tbody>\n",
       "    <tr>\n",
       "      <th>RELIANCE.NS</th>\n",
       "      <td>45.086378</td>\n",
       "      <td>-4.851933</td>\n",
       "      <td>25.520000</td>\n",
       "      <td>107.494888</td>\n",
       "      <td>4.703539</td>\n",
       "    </tr>\n",
       "    <tr>\n",
       "      <th>TCS.NS</th>\n",
       "      <td>74.179618</td>\n",
       "      <td>124.366984</td>\n",
       "      <td>30.290000</td>\n",
       "      <td>127.699512</td>\n",
       "      <td>18.025540</td>\n",
       "    </tr>\n",
       "    <tr>\n",
       "      <th>HDFCBANK.NS</th>\n",
       "      <td>47.685490</td>\n",
       "      <td>-3.935713</td>\n",
       "      <td>21.590000</td>\n",
       "      <td>74.592485</td>\n",
       "      <td>2.582612</td>\n",
       "    </tr>\n",
       "    <tr>\n",
       "      <th>INFY.NS</th>\n",
       "      <td>81.058954</td>\n",
       "      <td>83.085722</td>\n",
       "      <td>0.180000</td>\n",
       "      <td>10131.895195</td>\n",
       "      <td>868.513205</td>\n",
       "    </tr>\n",
       "    <tr>\n",
       "      <th>HINDUNILVR.NS</th>\n",
       "      <td>62.365843</td>\n",
       "      <td>57.762165</td>\n",
       "      <td>11.110000</td>\n",
       "      <td>242.250961</td>\n",
       "      <td>114.854679</td>\n",
       "    </tr>\n",
       "    <tr>\n",
       "      <th>ICICIBANK.NS</th>\n",
       "      <td>50.287206</td>\n",
       "      <td>9.885731</td>\n",
       "      <td>16.320000</td>\n",
       "      <td>76.760956</td>\n",
       "      <td>3.480946</td>\n",
       "    </tr>\n",
       "    <tr>\n",
       "      <th>KOTAKBANK.NS</th>\n",
       "      <td>49.840750</td>\n",
       "      <td>2.290973</td>\n",
       "      <td>37.470000</td>\n",
       "      <td>47.768596</td>\n",
       "      <td>2.757536</td>\n",
       "    </tr>\n",
       "    <tr>\n",
       "      <th>BAJFINANCE.NS</th>\n",
       "      <td>43.870135</td>\n",
       "      <td>-85.583398</td>\n",
       "      <td>63.110000</td>\n",
       "      <td>107.798081</td>\n",
       "      <td>5.564429</td>\n",
       "    </tr>\n",
       "    <tr>\n",
       "      <th>ITC.NS</th>\n",
       "      <td>68.346814</td>\n",
       "      <td>16.126407</td>\n",
       "      <td>4.260000</td>\n",
       "      <td>119.896530</td>\n",
       "      <td>8.642178</td>\n",
       "    </tr>\n",
       "    <tr>\n",
       "      <th>BHARTIARTL.NS</th>\n",
       "      <td>59.641923</td>\n",
       "      <td>18.991139</td>\n",
       "      <td>4.140000</td>\n",
       "      <td>435.477681</td>\n",
       "      <td>-13.518805</td>\n",
       "    </tr>\n",
       "    <tr>\n",
       "      <th>ASIANPAINT.NS</th>\n",
       "      <td>68.245893</td>\n",
       "      <td>21.678544</td>\n",
       "      <td>12.200000</td>\n",
       "      <td>252.827248</td>\n",
       "      <td>16.539943</td>\n",
       "    </tr>\n",
       "    <tr>\n",
       "      <th>LT.NS</th>\n",
       "      <td>63.734241</td>\n",
       "      <td>36.949389</td>\n",
       "      <td>20.250000</td>\n",
       "      <td>187.417350</td>\n",
       "      <td>8.555260</td>\n",
       "    </tr>\n",
       "    <tr>\n",
       "      <th>AXISBANK.NS</th>\n",
       "      <td>29.966433</td>\n",
       "      <td>-16.262987</td>\n",
       "      <td>20.690000</td>\n",
       "      <td>56.008178</td>\n",
       "      <td>2.189451</td>\n",
       "    </tr>\n",
       "    <tr>\n",
       "      <th>SBIN.NS</th>\n",
       "      <td>55.165865</td>\n",
       "      <td>7.251290</td>\n",
       "      <td>12.400000</td>\n",
       "      <td>36.332147</td>\n",
       "      <td>1.872400</td>\n",
       "    </tr>\n",
       "    <tr>\n",
       "      <th>MARUTI.NS</th>\n",
       "      <td>63.720456</td>\n",
       "      <td>98.832335</td>\n",
       "      <td>102.000000</td>\n",
       "      <td>102.975736</td>\n",
       "      <td>4.790846</td>\n",
       "    </tr>\n",
       "    <tr>\n",
       "      <th>HCLTECH.NS</th>\n",
       "      <td>75.628287</td>\n",
       "      <td>45.443154</td>\n",
       "      <td>15.690000</td>\n",
       "      <td>104.130725</td>\n",
       "      <td>10.811553</td>\n",
       "    </tr>\n",
       "    <tr>\n",
       "      <th>SUNPHARMA.NS</th>\n",
       "      <td>74.415174</td>\n",
       "      <td>47.345544</td>\n",
       "      <td>10.500000</td>\n",
       "      <td>155.678661</td>\n",
       "      <td>8.906201</td>\n",
       "    </tr>\n",
       "    <tr>\n",
       "      <th>ULTRACEMCO.NS</th>\n",
       "      <td>62.011935</td>\n",
       "      <td>177.456226</td>\n",
       "      <td>58.820000</td>\n",
       "      <td>202.161638</td>\n",
       "      <td>7.091777</td>\n",
       "    </tr>\n",
       "    <tr>\n",
       "      <th>NESTLEIND.NS</th>\n",
       "      <td>35.162261</td>\n",
       "      <td>-17.962144</td>\n",
       "      <td>7.740000</td>\n",
       "      <td>318.329413</td>\n",
       "      <td>83.194098</td>\n",
       "    </tr>\n",
       "    <tr>\n",
       "      <th>TITAN.NS</th>\n",
       "      <td>57.147417</td>\n",
       "      <td>25.655568</td>\n",
       "      <td>11.900000</td>\n",
       "      <td>397.624481</td>\n",
       "      <td>34.230513</td>\n",
       "    </tr>\n",
       "    <tr>\n",
       "      <th>TATASTEEL.NS</th>\n",
       "      <td>45.453612</td>\n",
       "      <td>-2.998636</td>\n",
       "      <td>0.420000</td>\n",
       "      <td>336.198712</td>\n",
       "      <td>2.802325</td>\n",
       "    </tr>\n",
       "    <tr>\n",
       "      <th>WIPRO.NS</th>\n",
       "      <td>50.273469</td>\n",
       "      <td>3.536908</td>\n",
       "      <td>5.730000</td>\n",
       "      <td>90.560880</td>\n",
       "      <td>6.280132</td>\n",
       "    </tr>\n",
       "    <tr>\n",
       "      <th>ADANIGREEN.NS</th>\n",
       "      <td>62.449588</td>\n",
       "      <td>7.336938</td>\n",
       "      <td>2.630000</td>\n",
       "      <td>658.527771</td>\n",
       "      <td>30.151256</td>\n",
       "    </tr>\n",
       "    <tr>\n",
       "      <th>DIVISLAB.NS</th>\n",
       "      <td>68.324823</td>\n",
       "      <td>95.461482</td>\n",
       "      <td>13.500000</td>\n",
       "      <td>243.463689</td>\n",
       "      <td>9.528947</td>\n",
       "    </tr>\n",
       "    <tr>\n",
       "      <th>M&amp;M.NS</th>\n",
       "      <td>63.385442</td>\n",
       "      <td>39.877825</td>\n",
       "      <td>23.760000</td>\n",
       "      <td>128.901834</td>\n",
       "      <td>6.467380</td>\n",
       "    </tr>\n",
       "    <tr>\n",
       "      <th>BAJAJFINSV.NS</th>\n",
       "      <td>61.657221</td>\n",
       "      <td>10.027085</td>\n",
       "      <td>13.300000</td>\n",
       "      <td>122.909776</td>\n",
       "      <td>4.490543</td>\n",
       "    </tr>\n",
       "    <tr>\n",
       "      <th>POWERGRID.NS</th>\n",
       "      <td>61.585941</td>\n",
       "      <td>4.859604</td>\n",
       "      <td>4.000000</td>\n",
       "      <td>86.939039</td>\n",
       "      <td>3.786982</td>\n",
       "    </tr>\n",
       "    <tr>\n",
       "      <th>NTPC.NS</th>\n",
       "      <td>67.599823</td>\n",
       "      <td>7.493379</td>\n",
       "      <td>5.650000</td>\n",
       "      <td>72.085449</td>\n",
       "      <td>2.464317</td>\n",
       "    </tr>\n",
       "    <tr>\n",
       "      <th>GRASIM.NS</th>\n",
       "      <td>57.135432</td>\n",
       "      <td>59.180603</td>\n",
       "      <td>22.958711</td>\n",
       "      <td>137.811032</td>\n",
       "      <td>3.142741</td>\n",
       "    </tr>\n",
       "    <tr>\n",
       "      <th>TECHM.NS</th>\n",
       "      <td>67.318909</td>\n",
       "      <td>36.152915</td>\n",
       "      <td>9.600000</td>\n",
       "      <td>160.439864</td>\n",
       "      <td>8.369041</td>\n",
       "    </tr>\n",
       "    <tr>\n",
       "      <th>ONGC.NS</th>\n",
       "      <td>69.233627</td>\n",
       "      <td>14.196079</td>\n",
       "      <td>8.230000</td>\n",
       "      <td>38.174683</td>\n",
       "      <td>1.302682</td>\n",
       "    </tr>\n",
       "    <tr>\n",
       "      <th>JSWSTEEL.NS</th>\n",
       "      <td>53.621346</td>\n",
       "      <td>-5.627053</td>\n",
       "      <td>3.450000</td>\n",
       "      <td>265.910351</td>\n",
       "      <td>3.016557</td>\n",
       "    </tr>\n",
       "    <tr>\n",
       "      <th>CIPLA.NS</th>\n",
       "      <td>56.995121</td>\n",
       "      <td>11.021607</td>\n",
       "      <td>14.570000</td>\n",
       "      <td>105.593111</td>\n",
       "      <td>5.654002</td>\n",
       "    </tr>\n",
       "    <tr>\n",
       "      <th>HEROMOTOCO.NS</th>\n",
       "      <td>49.105655</td>\n",
       "      <td>-5.399916</td>\n",
       "      <td>54.590000</td>\n",
       "      <td>116.808641</td>\n",
       "      <td>6.501657</td>\n",
       "    </tr>\n",
       "    <tr>\n",
       "      <th>BPCL.NS</th>\n",
       "      <td>72.313002</td>\n",
       "      <td>8.906409</td>\n",
       "      <td>6.650000</td>\n",
       "      <td>53.163508</td>\n",
       "      <td>2.435353</td>\n",
       "    </tr>\n",
       "    <tr>\n",
       "      <th>ADANIPORTS.NS</th>\n",
       "      <td>67.652073</td>\n",
       "      <td>25.542065</td>\n",
       "      <td>10.220000</td>\n",
       "      <td>166.464337</td>\n",
       "      <td>9.769204</td>\n",
       "    </tr>\n",
       "    <tr>\n",
       "      <th>SHREECEM.NS</th>\n",
       "      <td>52.650291</td>\n",
       "      <td>102.307337</td>\n",
       "      <td>194.540000</td>\n",
       "      <td>147.844828</td>\n",
       "      <td>4.848401</td>\n",
       "    </tr>\n",
       "    <tr>\n",
       "      <th>COALINDIA.NS</th>\n",
       "      <td>66.786475</td>\n",
       "      <td>8.395750</td>\n",
       "      <td>14.720000</td>\n",
       "      <td>23.742492</td>\n",
       "      <td>4.248619</td>\n",
       "    </tr>\n",
       "    <tr>\n",
       "      <th>SBILIFE.NS</th>\n",
       "      <td>73.636303</td>\n",
       "      <td>66.748671</td>\n",
       "      <td>5.180000</td>\n",
       "      <td>338.344507</td>\n",
       "      <td>11.288355</td>\n",
       "    </tr>\n",
       "    <tr>\n",
       "      <th>BRITANNIA.NS</th>\n",
       "      <td>63.250604</td>\n",
       "      <td>115.297130</td>\n",
       "      <td>23.110000</td>\n",
       "      <td>261.273270</td>\n",
       "      <td>37.002256</td>\n",
       "    </tr>\n",
       "    <tr>\n",
       "      <th>EICHERMOT.NS</th>\n",
       "      <td>61.594155</td>\n",
       "      <td>57.118663</td>\n",
       "      <td>36.310000</td>\n",
       "      <td>127.309583</td>\n",
       "      <td>8.011696</td>\n",
       "    </tr>\n",
       "    <tr>\n",
       "      <th>UPL.NS</th>\n",
       "      <td>60.449907</td>\n",
       "      <td>0.721120</td>\n",
       "      <td>-17.110000</td>\n",
       "      <td>1072.336864</td>\n",
       "      <td>-12.563994</td>\n",
       "    </tr>\n",
       "    <tr>\n",
       "      <th>DRREDDY.NS</th>\n",
       "      <td>63.032928</td>\n",
       "      <td>157.150690</td>\n",
       "      <td>83.460000</td>\n",
       "      <td>81.020978</td>\n",
       "      <td>4.453302</td>\n",
       "    </tr>\n",
       "    <tr>\n",
       "      <th>BAJAJ-AUTO.NS</th>\n",
       "      <td>57.006538</td>\n",
       "      <td>9.065233</td>\n",
       "      <td>69.600000</td>\n",
       "      <td>138.740896</td>\n",
       "      <td>9.310871</td>\n",
       "    </tr>\n",
       "    <tr>\n",
       "      <th>INDUSINDBK.NS</th>\n",
       "      <td>47.382983</td>\n",
       "      <td>-14.118427</td>\n",
       "      <td>27.850000</td>\n",
       "      <td>51.180113</td>\n",
       "      <td>1.757721</td>\n",
       "    </tr>\n",
       "    <tr>\n",
       "      <th>IOC.NS</th>\n",
       "      <td>65.323919</td>\n",
       "      <td>3.148734</td>\n",
       "      <td>6.560000</td>\n",
       "      <td>49.887707</td>\n",
       "      <td>1.460604</td>\n",
       "    </tr>\n",
       "    <tr>\n",
       "      <th>HINDALCO.NS</th>\n",
       "      <td>46.866365</td>\n",
       "      <td>-5.681232</td>\n",
       "      <td>10.490000</td>\n",
       "      <td>47.057487</td>\n",
       "      <td>2.022320</td>\n",
       "    </tr>\n",
       "    <tr>\n",
       "      <th>TATACONSUM.NS</th>\n",
       "      <td>53.303267</td>\n",
       "      <td>21.711876</td>\n",
       "      <td>3.000000</td>\n",
       "      <td>517.674787</td>\n",
       "      <td>-180.434884</td>\n",
       "    </tr>\n",
       "    <tr>\n",
       "      <th>VEDL.NS</th>\n",
       "      <td>49.920394</td>\n",
       "      <td>-1.939883</td>\n",
       "      <td>5.380000</td>\n",
       "      <td>121.409084</td>\n",
       "      <td>6.413375</td>\n",
       "    </tr>\n",
       "  </tbody>\n",
       "</table>\n",
       "</div>"
      ]
     },
     "execution_count": 118,
     "metadata": {},
     "output_type": "execute_result"
    }
   ],
   "execution_count": 118
  },
  {
   "cell_type": "code",
   "execution_count": 53,
   "metadata": {},
   "outputs": [],
   "source": [
    "df.to_csv(\"F:\\\\psg\\\\bob\\\\Smart-Wealth\\\\backend\\\\clusters\\\\datasets\\\\metrics.csv\")"
   ]
  },
  {
   "cell_type": "code",
   "execution_count": 52,
   "metadata": {},
   "outputs": [
    {
     "data": {
      "text/plain": [
       "(49, 5)"
      ]
     },
     "execution_count": 52,
     "metadata": {},
     "output_type": "execute_result"
    }
   ],
   "source": [
    "df.shape"
   ]
  },
  {
   "cell_type": "code",
   "execution_count": 54,
   "metadata": {},
   "outputs": [],
   "source": [
    "import pandas as pd\n",
    "from sklearn.preprocessing import StandardScaler\n",
    "from sklearn.cluster import DBSCAN"
   ]
  },
  {
   "cell_type": "code",
   "execution_count": 65,
   "metadata": {},
   "outputs": [],
   "source": [
    "import pandas as pd\n",
    "from sklearn.preprocessing import StandardScaler\n",
    "from sklearn.cluster import DBSCAN\n",
    "\n",
    "# Scale the DataFrame\n",
    "scaler = StandardScaler()\n",
    "scaled_data = scaler.fit_transform(df)\n",
    "\n",
    "# Apply DBSCAN\n",
    "dbscan = DBSCAN(eps=0.5, min_samples=2)  # Adjust eps and min_samples as needed\n",
    "clusters = dbscan.fit_predict(scaled_data)\n",
    "\n",
    "# Add cluster labels to the DataFrame\n",
    "df['Cluster'] = clusters"
   ]
  },
  {
   "cell_type": "code",
   "execution_count": 66,
   "metadata": {},
   "outputs": [
    {
     "data": {
      "text/plain": [
       "Cluster\n",
       " 0    30\n",
       "-1    12\n",
       " 1     5\n",
       " 2     2\n",
       "Name: count, dtype: int64"
      ]
     },
     "execution_count": 66,
     "metadata": {},
     "output_type": "execute_result"
    }
   ],
   "source": [
    "df.Cluster.value_counts()"
   ]
  },
  {
   "cell_type": "code",
   "execution_count": 67,
   "metadata": {},
   "outputs": [],
   "source": [
    "df.to_csv(\"F:\\\\psg\\\\bob\\\\Smart-Wealth\\\\backend\\\\clusters\\\\datasets\\\\clusters.csv\")"
   ]
  },
  {
   "cell_type": "code",
   "execution_count": null,
   "metadata": {},
   "outputs": [],
   "source": []
  },
  {
   "cell_type": "code",
   "execution_count": null,
   "metadata": {},
   "outputs": [],
   "source": []
  },
  {
   "cell_type": "code",
   "execution_count": 28,
   "metadata": {},
   "outputs": [],
   "source": [
    "import pandas as pd\n",
    "import numpy as np"
   ]
  },
  {
   "cell_type": "code",
   "execution_count": 29,
   "metadata": {},
   "outputs": [],
   "source": [
    "df = pd.read_csv(\"F:\\\\psg\\\\bob\\\\Smart-Wealth\\\\backend\\\\clusters\\\\datasets\\\\clusters.csv\")"
   ]
  },
  {
   "cell_type": "code",
   "execution_count": 30,
   "metadata": {},
   "outputs": [
    {
     "data": {
      "text/html": [
       "<div>\n",
       "<style scoped>\n",
       "    .dataframe tbody tr th:only-of-type {\n",
       "        vertical-align: middle;\n",
       "    }\n",
       "\n",
       "    .dataframe tbody tr th {\n",
       "        vertical-align: top;\n",
       "    }\n",
       "\n",
       "    .dataframe thead th {\n",
       "        text-align: right;\n",
       "    }\n",
       "</style>\n",
       "<table border=\"1\" class=\"dataframe\">\n",
       "  <thead>\n",
       "    <tr style=\"text-align: right;\">\n",
       "      <th></th>\n",
       "      <th>Unnamed: 0</th>\n",
       "      <th>rsi</th>\n",
       "      <th>MACD_12_26_9</th>\n",
       "      <th>eps</th>\n",
       "      <th>pe_ratio</th>\n",
       "      <th>pb_ratio</th>\n",
       "      <th>Cluster</th>\n",
       "    </tr>\n",
       "  </thead>\n",
       "  <tbody>\n",
       "    <tr>\n",
       "      <th>0</th>\n",
       "      <td>RELIANCE.NS</td>\n",
       "      <td>45.714092</td>\n",
       "      <td>45.714092</td>\n",
       "      <td>25.52</td>\n",
       "      <td>107.753735</td>\n",
       "      <td>2.573522</td>\n",
       "      <td>0</td>\n",
       "    </tr>\n",
       "    <tr>\n",
       "      <th>1</th>\n",
       "      <td>TCS.NS</td>\n",
       "      <td>76.141312</td>\n",
       "      <td>76.141312</td>\n",
       "      <td>30.29</td>\n",
       "      <td>127.679151</td>\n",
       "      <td>17.544260</td>\n",
       "      <td>1</td>\n",
       "    </tr>\n",
       "    <tr>\n",
       "      <th>2</th>\n",
       "      <td>HDFCBANK.NS</td>\n",
       "      <td>47.938527</td>\n",
       "      <td>47.938527</td>\n",
       "      <td>21.59</td>\n",
       "      <td>74.726409</td>\n",
       "      <td>2.587249</td>\n",
       "      <td>0</td>\n",
       "    </tr>\n",
       "    <tr>\n",
       "      <th>3</th>\n",
       "      <td>INFY.NS</td>\n",
       "      <td>86.939338</td>\n",
       "      <td>86.939338</td>\n",
       "      <td>0.18</td>\n",
       "      <td>10199.206070</td>\n",
       "      <td>781.638633</td>\n",
       "      <td>-1</td>\n",
       "    </tr>\n",
       "    <tr>\n",
       "      <th>4</th>\n",
       "      <td>HINDUNILVR.NS</td>\n",
       "      <td>66.857558</td>\n",
       "      <td>66.857558</td>\n",
       "      <td>11.11</td>\n",
       "      <td>244.055920</td>\n",
       "      <td>12.436760</td>\n",
       "      <td>0</td>\n",
       "    </tr>\n",
       "  </tbody>\n",
       "</table>\n",
       "</div>"
      ],
      "text/plain": [
       "      Unnamed: 0        rsi  MACD_12_26_9    eps      pe_ratio    pb_ratio  \\\n",
       "0    RELIANCE.NS  45.714092     45.714092  25.52    107.753735    2.573522   \n",
       "1         TCS.NS  76.141312     76.141312  30.29    127.679151   17.544260   \n",
       "2    HDFCBANK.NS  47.938527     47.938527  21.59     74.726409    2.587249   \n",
       "3        INFY.NS  86.939338     86.939338   0.18  10199.206070  781.638633   \n",
       "4  HINDUNILVR.NS  66.857558     66.857558  11.11    244.055920   12.436760   \n",
       "\n",
       "   Cluster  \n",
       "0        0  \n",
       "1        1  \n",
       "2        0  \n",
       "3       -1  \n",
       "4        0  "
      ]
     },
     "execution_count": 30,
     "metadata": {},
     "output_type": "execute_result"
    }
   ],
   "source": [
    "df.head()"
   ]
  },
  {
   "cell_type": "code",
   "execution_count": 31,
   "metadata": {},
   "outputs": [
    {
     "data": {
      "text/plain": [
       "(49, 7)"
      ]
     },
     "execution_count": 31,
     "metadata": {},
     "output_type": "execute_result"
    }
   ],
   "source": [
    "df.shape"
   ]
  },
  {
   "cell_type": "code",
   "execution_count": 32,
   "metadata": {},
   "outputs": [],
   "source": [
    "import json"
   ]
  },
  {
   "cell_type": "code",
   "execution_count": null,
   "metadata": {},
   "outputs": [],
   "source": [
    "# HDFC Life Insurance Company Limited\n",
    "# Apollo Hospitals Enterprise Limited\n",
    "# Adani Enterprises Limited\n",
    "# Tata Motors Limited\n",
    "# TATA Steel Limited\n",
    "# TATA CONSUMER PRODUCTS LIMITED\n",
    "# Dr. Reddys Laboratories Ltd.\n",
    "# Shriram Finance Company Ltd.\n",
    "# Oil & Natural Gas Corporation Ltd."
   ]
  },
  {
   "cell_type": "code",
   "execution_count": 33,
   "metadata": {},
   "outputs": [],
   "source": [
    "company_to_ticker = {\n",
    "    \"Reliance Industries Limited\": \"RELIANCE.NS\",\n",
    "    \"Tata Consultancy Services Limited\": \"TCS.NS\",\n",
    "    \"HDFC Bank Limited\": \"HDFCBANK.NS\",\n",
    "    \"Infosys Limited\": \"INFY.NS\",\n",
    "    \"Hindustan Unilever Limited\": \"HINDUNILVR.NS\",\n",
    "    \"ICICI Bank Limited\": \"ICICIBANK.NS\",\n",
    "    \"Kotak Mahindra Bank Limited\": \"KOTAKBANK.NS\",\n",
    "    \"Bajaj Finance Limited\": \"BAJFINANCE.NS\",\n",
    "    \"ITC Limited\": \"ITC.NS\",\n",
    "    \"Bharti Airtel Limited\": \"BHARTIARTL.NS\",\n",
    "    \"Asian Paints Limited\": \"ASIANPAINT.NS\",\n",
    "    \"Larsen & Toubro Limited\": \"LT.NS\",\n",
    "    \"Axis Bank Limited\": \"AXISBANK.NS\",\n",
    "    \"State Bank of India\": \"SBIN.NS\",\n",
    "    \"Maruti Suzuki India Limited\": \"MARUTI.NS\",\n",
    "    \"HCL Technologies Limited\": \"HCLTECH.NS\",\n",
    "    \"Sun Pharmaceutical Industries Limited\": \"SUNPHARMA.NS\",\n",
    "    \"UltraTech Cement Limited\": \"ULTRACEMCO.NS\",\n",
    "    \"Nestle India Limited\": \"NESTLEIND.NS\",\n",
    "    \"Titan Company Limited\": \"TITAN.NS\",\n",
    "    \"Tata Steel Limited\": \"TATASTEEL.NS\",\n",
    "    \"Wipro Limited\": \"WIPRO.NS\",\n",
    "    \"Adani Green Energy Limited\": \"ADANIGREEN.NS\",\n",
    "    \"Divi's Laboratories Limited\": \"DIVISLAB.NS\",\n",
    "    \"Mahindra & Mahindra Limited\": \"M&M.NS\",\n",
    "    \"Bajaj Finserv Limited\": \"BAJAJFINSV.NS\",\n",
    "    \"Power Grid Corporation of India Limited\": \"POWERGRID.NS\",\n",
    "    \"NTPC Limited\": \"NTPC.NS\",\n",
    "    \"Grasim Industries Limited\": \"GRASIM.NS\",\n",
    "    \"Tech Mahindra Limited\": \"TECHM.NS\",\n",
    "    \"Oil and Natural Gas Corporation Limited\": \"ONGC.NS\",\n",
    "    \"JSW Steel Limited\": \"JSWSTEEL.NS\",\n",
    "    \"Cipla Limited\": \"CIPLA.NS\",\n",
    "    \"Hero MotoCorp Limited\": \"HEROMOTOCO.NS\",\n",
    "    \"Bharat Petroleum Corporation Limited\": \"BPCL.NS\",\n",
    "    \"Adani Ports and Special Economic Zone Limited\": \"ADANIPORTS.NS\",\n",
    "    \"Shree Cement Limited\": \"SHREECEM.NS\",\n",
    "    \"Coal India Limited\": \"COALINDIA.NS\",\n",
    "    \"SBI Life Insurance Company Limited\": \"SBILIFE.NS\",\n",
    "    \"Britannia Industries Limited\": \"BRITANNIA.NS\",\n",
    "    \"Eicher Motors Limited\": \"EICHERMOT.NS\",\n",
    "    \"UPL Limited\": \"UPL.NS\",\n",
    "    \"Dr. Reddy's Laboratories Limited\": \"DRREDDY.NS\",\n",
    "    \"Bajaj Auto Limited\": \"BAJAJ-AUTO.NS\",\n",
    "    \"IndusInd Bank Limited\": \"INDUSINDBK.NS\",\n",
    "    \"Indian Oil Corporation Limited\": \"IOC.NS\",\n",
    "    \"Hindalco Industries Limited\": \"HINDALCO.NS\",\n",
    "    \"Tata Consumer Products Limited\": \"TATACONSUM.NS\",\n",
    "    \"Vedanta Limited\": \"VEDL.NS\"\n",
    "}"
   ]
  },
  {
   "cell_type": "code",
   "execution_count": 47,
   "metadata": {},
   "outputs": [],
   "source": [
    "with open(\"F:\\\\psg\\\\bob\\\\Smart-Wealth\\\\backend\\\\clusters\\\\datasets\\\\company_summary_v3.json\", 'r') as file:\n",
    "    data = json.load(file)"
   ]
  },
  {
   "cell_type": "code",
   "execution_count": 48,
   "metadata": {},
   "outputs": [
    {
     "data": {
      "text/plain": [
       "49"
      ]
     },
     "execution_count": 48,
     "metadata": {},
     "output_type": "execute_result"
    }
   ],
   "source": [
    "len(data)"
   ]
  },
  {
   "cell_type": "code",
   "execution_count": 49,
   "metadata": {},
   "outputs": [
    {
     "data": {
      "text/plain": [
       "49"
      ]
     },
     "execution_count": 49,
     "metadata": {},
     "output_type": "execute_result"
    }
   ],
   "source": [
    "len(company_to_ticker)"
   ]
  },
  {
   "cell_type": "code",
   "execution_count": 50,
   "metadata": {},
   "outputs": [
    {
     "name": "stdout",
     "output_type": "stream",
     "text": [
      "HDFC Life Insurance Company Limited\n",
      "Apollo Hospitals Enterprise Limited\n",
      "Adani Enterprises Limited\n",
      "Tata Motors Limited\n",
      "TATA Steel Limited\n",
      "TATA CONSUMER PRODUCTS LIMITED\n",
      "Dr. Reddys Laboratories Ltd.\n",
      "Shriram Finance Company Ltd.\n",
      "Oil & Natural Gas Corporation Ltd.\n"
     ]
    }
   ],
   "source": [
    "\n",
    "\n",
    "# data = json.loads(json_data)\n",
    "\n",
    "# Prepare the data for DataFrame\n",
    "rows = []\n",
    "\n",
    "for company, metrics in data.items():\n",
    "    if company in company_to_ticker:\n",
    "        ticker = company_to_ticker[company]\n",
    "        sentiment = metrics['company_sentiment']\n",
    "        trend = metrics['company_trend']\n",
    "        \n",
    "        row = {\n",
    "            'ticker_name': ticker,\n",
    "            'company_sentiment_positive': sentiment['positive'],\n",
    "            'company_sentiment_negative': sentiment['negative'],\n",
    "            'company_sentiment_neutral': sentiment['neutral'],\n",
    "            'company_trend_bullish': trend['bullish'],\n",
    "            'company_trend_bearish': trend['bearish'],\n",
    "            'company_trend_neutral': trend['neutral']\n",
    "        }\n",
    "        \n",
    "        rows.append(row)\n",
    "\n",
    "    else:\n",
    "        print(company)\n",
    "\n",
    "# Create DataFrame\n",
    "data = pd.DataFrame(rows)"
   ]
  },
  {
   "cell_type": "code",
   "execution_count": 38,
   "metadata": {},
   "outputs": [
    {
     "data": {
      "text/plain": [
       "Index(['ticker_name', 'company_sentiment_positive',\n",
       "       'company_sentiment_negative', 'company_sentiment_neutral',\n",
       "       'company_trend_bullish', 'company_trend_bearish',\n",
       "       'company_trend_neutral'],\n",
       "      dtype='object')"
      ]
     },
     "execution_count": 38,
     "metadata": {},
     "output_type": "execute_result"
    }
   ],
   "source": [
    "data.columns"
   ]
  },
  {
   "cell_type": "code",
   "execution_count": 39,
   "metadata": {},
   "outputs": [
    {
     "data": {
      "text/plain": [
       "(40, 7)"
      ]
     },
     "execution_count": 39,
     "metadata": {},
     "output_type": "execute_result"
    }
   ],
   "source": [
    "data.shape"
   ]
  },
  {
   "cell_type": "code",
   "execution_count": 13,
   "metadata": {},
   "outputs": [
    {
     "data": {
      "text/plain": [
       "Index(['Unnamed: 0', 'rsi', 'MACD_12_26_9', 'eps', 'pe_ratio', 'pb_ratio',\n",
       "       'Cluster'],\n",
       "      dtype='object')"
      ]
     },
     "execution_count": 13,
     "metadata": {},
     "output_type": "execute_result"
    }
   ],
   "source": [
    "df.columns"
   ]
  },
  {
   "cell_type": "code",
   "execution_count": 15,
   "metadata": {},
   "outputs": [],
   "source": [
    "# Merge the two dataframes on the specified columns\n",
    "merged_df = pd.merge(data, df, left_on='ticker_name', right_on='Unnamed: 0', how='inner')\n",
    "\n",
    "# Drop the redundant 'Unnamed: 0' column\n",
    "merged_df = merged_df.drop(columns=['Unnamed: 0'])"
   ]
  },
  {
   "cell_type": "code",
   "execution_count": 18,
   "metadata": {},
   "outputs": [],
   "source": [
    "merged_df.drop(['Cluster'], axis=1, inplace=True)"
   ]
  },
  {
   "cell_type": "code",
   "execution_count": 24,
   "metadata": {},
   "outputs": [
    {
     "data": {
      "text/plain": [
       "['ticker_name',\n",
       " 'company_sentiment_positive',\n",
       " 'company_sentiment_negative',\n",
       " 'company_sentiment_neutral',\n",
       " 'company_trend_bullish',\n",
       " 'company_trend_bearish',\n",
       " 'company_trend_neutral',\n",
       " 'rsi',\n",
       " 'MACD_12_26_9',\n",
       " 'eps',\n",
       " 'pe_ratio',\n",
       " 'pb_ratio']"
      ]
     },
     "execution_count": 24,
     "metadata": {},
     "output_type": "execute_result"
    }
   ],
   "source": [
    "list(merged_df.columns)"
   ]
  },
  {
   "cell_type": "code",
   "execution_count": 25,
   "metadata": {},
   "outputs": [],
   "source": [
    "ser = merged_df.ticker_name"
   ]
  },
  {
   "cell_type": "code",
   "execution_count": 27,
   "metadata": {},
   "outputs": [
    {
     "data": {
      "text/plain": [
       "(40, 12)"
      ]
     },
     "execution_count": 27,
     "metadata": {},
     "output_type": "execute_result"
    }
   ],
   "source": [
    "merged_df.shape"
   ]
  },
  {
   "cell_type": "code",
   "execution_count": 26,
   "metadata": {},
   "outputs": [
    {
     "data": {
      "text/plain": [
       "0           INFY.NS\n",
       "1            ITC.NS\n",
       "2      ICICIBANK.NS\n",
       "3            TCS.NS\n",
       "4     HINDUNILVR.NS\n",
       "5           SBIN.NS\n",
       "6       HDFCBANK.NS\n",
       "7      KOTAKBANK.NS\n",
       "8         MARUTI.NS\n",
       "9     BAJAJFINSV.NS\n",
       "10       SBILIFE.NS\n",
       "11            LT.NS\n",
       "12     NESTLEIND.NS\n",
       "13      AXISBANK.NS\n",
       "14         CIPLA.NS\n",
       "15    BHARTIARTL.NS\n",
       "16    HEROMOTOCO.NS\n",
       "17        GRASIM.NS\n",
       "18         TECHM.NS\n",
       "19     SUNPHARMA.NS\n",
       "20    INDUSINDBK.NS\n",
       "21      RELIANCE.NS\n",
       "22           M&M.NS\n",
       "23    BAJFINANCE.NS\n",
       "24    BAJAJ-AUTO.NS\n",
       "25         WIPRO.NS\n",
       "26    ULTRACEMCO.NS\n",
       "27          NTPC.NS\n",
       "28     COALINDIA.NS\n",
       "29      HINDALCO.NS\n",
       "30      JSWSTEEL.NS\n",
       "31    ASIANPAINT.NS\n",
       "32      DIVISLAB.NS\n",
       "33     BRITANNIA.NS\n",
       "34          BPCL.NS\n",
       "35       HCLTECH.NS\n",
       "36     POWERGRID.NS\n",
       "37     EICHERMOT.NS\n",
       "38         TITAN.NS\n",
       "39    ADANIPORTS.NS\n",
       "Name: ticker_name, dtype: object"
      ]
     },
     "execution_count": 26,
     "metadata": {},
     "output_type": "execute_result"
    }
   ],
   "source": [
    "ser"
   ]
  },
  {
   "cell_type": "code",
   "execution_count": null,
   "metadata": {},
   "outputs": [],
   "source": []
  },
  {
   "cell_type": "code",
   "execution_count": null,
   "metadata": {},
   "outputs": [],
   "source": []
  },
  {
   "cell_type": "code",
   "execution_count": 19,
   "metadata": {},
   "outputs": [
    {
     "ename": "ValueError",
     "evalue": "could not convert string to float: 'INFY.NS'",
     "output_type": "error",
     "traceback": [
      "\u001B[1;31m---------------------------------------------------------------------------\u001B[0m",
      "\u001B[1;31mValueError\u001B[0m                                Traceback (most recent call last)",
      "\u001B[1;32m~\\AppData\\Local\\Temp\\ipykernel_16092\\2704033832.py\u001B[0m in \u001B[0;36m?\u001B[1;34m()\u001B[0m\n\u001B[0;32m      3\u001B[0m \u001B[1;32mfrom\u001B[0m \u001B[0msklearn\u001B[0m\u001B[1;33m.\u001B[0m\u001B[0mcluster\u001B[0m \u001B[1;32mimport\u001B[0m \u001B[0mDBSCAN\u001B[0m\u001B[1;33m\u001B[0m\u001B[1;33m\u001B[0m\u001B[0m\n\u001B[0;32m      4\u001B[0m \u001B[1;33m\u001B[0m\u001B[0m\n\u001B[0;32m      5\u001B[0m \u001B[1;31m# Scale the DataFrame\u001B[0m\u001B[1;33m\u001B[0m\u001B[1;33m\u001B[0m\u001B[0m\n\u001B[0;32m      6\u001B[0m \u001B[0mscaler\u001B[0m \u001B[1;33m=\u001B[0m \u001B[0mStandardScaler\u001B[0m\u001B[1;33m(\u001B[0m\u001B[1;33m)\u001B[0m\u001B[1;33m\u001B[0m\u001B[1;33m\u001B[0m\u001B[0m\n\u001B[1;32m----> 7\u001B[1;33m \u001B[0mscaled_data\u001B[0m \u001B[1;33m=\u001B[0m \u001B[0mscaler\u001B[0m\u001B[1;33m.\u001B[0m\u001B[0mfit_transform\u001B[0m\u001B[1;33m(\u001B[0m\u001B[0mmerged_df\u001B[0m\u001B[1;33m)\u001B[0m\u001B[1;33m\u001B[0m\u001B[1;33m\u001B[0m\u001B[0m\n\u001B[0m\u001B[0;32m      8\u001B[0m \u001B[1;33m\u001B[0m\u001B[0m\n\u001B[0;32m      9\u001B[0m \u001B[1;31m# Apply DBSCAN\u001B[0m\u001B[1;33m\u001B[0m\u001B[1;33m\u001B[0m\u001B[0m\n\u001B[0;32m     10\u001B[0m \u001B[0mdbscan\u001B[0m \u001B[1;33m=\u001B[0m \u001B[0mDBSCAN\u001B[0m\u001B[1;33m(\u001B[0m\u001B[0meps\u001B[0m\u001B[1;33m=\u001B[0m\u001B[1;36m0.5\u001B[0m\u001B[1;33m,\u001B[0m \u001B[0mmin_samples\u001B[0m\u001B[1;33m=\u001B[0m\u001B[1;36m2\u001B[0m\u001B[1;33m)\u001B[0m  \u001B[1;31m# Adjust eps and min_samples as needed\u001B[0m\u001B[1;33m\u001B[0m\u001B[1;33m\u001B[0m\u001B[0m\n",
      "\u001B[1;32m~\\AppData\\Roaming\\Python\\Python310\\site-packages\\sklearn\\utils\\_set_output.py\u001B[0m in \u001B[0;36m?\u001B[1;34m(self, X, *args, **kwargs)\u001B[0m\n\u001B[0;32m    138\u001B[0m     \u001B[1;33m@\u001B[0m\u001B[0mwraps\u001B[0m\u001B[1;33m(\u001B[0m\u001B[0mf\u001B[0m\u001B[1;33m)\u001B[0m\u001B[1;33m\u001B[0m\u001B[1;33m\u001B[0m\u001B[0m\n\u001B[0;32m    139\u001B[0m     \u001B[1;32mdef\u001B[0m \u001B[0mwrapped\u001B[0m\u001B[1;33m(\u001B[0m\u001B[0mself\u001B[0m\u001B[1;33m,\u001B[0m \u001B[0mX\u001B[0m\u001B[1;33m,\u001B[0m \u001B[1;33m*\u001B[0m\u001B[0margs\u001B[0m\u001B[1;33m,\u001B[0m \u001B[1;33m**\u001B[0m\u001B[0mkwargs\u001B[0m\u001B[1;33m)\u001B[0m\u001B[1;33m:\u001B[0m\u001B[1;33m\u001B[0m\u001B[1;33m\u001B[0m\u001B[0m\n\u001B[1;32m--> 140\u001B[1;33m         \u001B[0mdata_to_wrap\u001B[0m \u001B[1;33m=\u001B[0m \u001B[0mf\u001B[0m\u001B[1;33m(\u001B[0m\u001B[0mself\u001B[0m\u001B[1;33m,\u001B[0m \u001B[0mX\u001B[0m\u001B[1;33m,\u001B[0m \u001B[1;33m*\u001B[0m\u001B[0margs\u001B[0m\u001B[1;33m,\u001B[0m \u001B[1;33m**\u001B[0m\u001B[0mkwargs\u001B[0m\u001B[1;33m)\u001B[0m\u001B[1;33m\u001B[0m\u001B[1;33m\u001B[0m\u001B[0m\n\u001B[0m\u001B[0;32m    141\u001B[0m         \u001B[1;32mif\u001B[0m \u001B[0misinstance\u001B[0m\u001B[1;33m(\u001B[0m\u001B[0mdata_to_wrap\u001B[0m\u001B[1;33m,\u001B[0m \u001B[0mtuple\u001B[0m\u001B[1;33m)\u001B[0m\u001B[1;33m:\u001B[0m\u001B[1;33m\u001B[0m\u001B[1;33m\u001B[0m\u001B[0m\n\u001B[0;32m    142\u001B[0m             \u001B[1;31m# only wrap the first output for cross decomposition\u001B[0m\u001B[1;33m\u001B[0m\u001B[1;33m\u001B[0m\u001B[0m\n\u001B[0;32m    143\u001B[0m             return (\n",
      "\u001B[1;32m~\\AppData\\Roaming\\Python\\Python310\\site-packages\\sklearn\\base.py\u001B[0m in \u001B[0;36m?\u001B[1;34m(self, X, y, **fit_params)\u001B[0m\n\u001B[0;32m    874\u001B[0m         \u001B[1;31m# non-optimized default implementation; override when a better\u001B[0m\u001B[1;33m\u001B[0m\u001B[1;33m\u001B[0m\u001B[0m\n\u001B[0;32m    875\u001B[0m         \u001B[1;31m# method is possible for a given clustering algorithm\u001B[0m\u001B[1;33m\u001B[0m\u001B[1;33m\u001B[0m\u001B[0m\n\u001B[0;32m    876\u001B[0m         \u001B[1;32mif\u001B[0m \u001B[0my\u001B[0m \u001B[1;32mis\u001B[0m \u001B[1;32mNone\u001B[0m\u001B[1;33m:\u001B[0m\u001B[1;33m\u001B[0m\u001B[1;33m\u001B[0m\u001B[0m\n\u001B[0;32m    877\u001B[0m             \u001B[1;31m# fit method of arity 1 (unsupervised transformation)\u001B[0m\u001B[1;33m\u001B[0m\u001B[1;33m\u001B[0m\u001B[0m\n\u001B[1;32m--> 878\u001B[1;33m             \u001B[1;32mreturn\u001B[0m \u001B[0mself\u001B[0m\u001B[1;33m.\u001B[0m\u001B[0mfit\u001B[0m\u001B[1;33m(\u001B[0m\u001B[0mX\u001B[0m\u001B[1;33m,\u001B[0m \u001B[1;33m**\u001B[0m\u001B[0mfit_params\u001B[0m\u001B[1;33m)\u001B[0m\u001B[1;33m.\u001B[0m\u001B[0mtransform\u001B[0m\u001B[1;33m(\u001B[0m\u001B[0mX\u001B[0m\u001B[1;33m)\u001B[0m\u001B[1;33m\u001B[0m\u001B[1;33m\u001B[0m\u001B[0m\n\u001B[0m\u001B[0;32m    879\u001B[0m         \u001B[1;32melse\u001B[0m\u001B[1;33m:\u001B[0m\u001B[1;33m\u001B[0m\u001B[1;33m\u001B[0m\u001B[0m\n\u001B[0;32m    880\u001B[0m             \u001B[1;31m# fit method of arity 2 (supervised transformation)\u001B[0m\u001B[1;33m\u001B[0m\u001B[1;33m\u001B[0m\u001B[0m\n\u001B[0;32m    881\u001B[0m             \u001B[1;32mreturn\u001B[0m \u001B[0mself\u001B[0m\u001B[1;33m.\u001B[0m\u001B[0mfit\u001B[0m\u001B[1;33m(\u001B[0m\u001B[0mX\u001B[0m\u001B[1;33m,\u001B[0m \u001B[0my\u001B[0m\u001B[1;33m,\u001B[0m \u001B[1;33m**\u001B[0m\u001B[0mfit_params\u001B[0m\u001B[1;33m)\u001B[0m\u001B[1;33m.\u001B[0m\u001B[0mtransform\u001B[0m\u001B[1;33m(\u001B[0m\u001B[0mX\u001B[0m\u001B[1;33m)\u001B[0m\u001B[1;33m\u001B[0m\u001B[1;33m\u001B[0m\u001B[0m\n",
      "\u001B[1;32m~\\AppData\\Roaming\\Python\\Python310\\site-packages\\sklearn\\preprocessing\\_data.py\u001B[0m in \u001B[0;36m?\u001B[1;34m(self, X, y, sample_weight)\u001B[0m\n\u001B[0;32m    820\u001B[0m             \u001B[0mFitted\u001B[0m \u001B[0mscaler\u001B[0m\u001B[1;33m.\u001B[0m\u001B[1;33m\u001B[0m\u001B[1;33m\u001B[0m\u001B[0m\n\u001B[0;32m    821\u001B[0m         \"\"\"\n\u001B[0;32m    822\u001B[0m         \u001B[1;31m# Reset internal state before fitting\u001B[0m\u001B[1;33m\u001B[0m\u001B[1;33m\u001B[0m\u001B[0m\n\u001B[0;32m    823\u001B[0m         \u001B[0mself\u001B[0m\u001B[1;33m.\u001B[0m\u001B[0m_reset\u001B[0m\u001B[1;33m(\u001B[0m\u001B[1;33m)\u001B[0m\u001B[1;33m\u001B[0m\u001B[1;33m\u001B[0m\u001B[0m\n\u001B[1;32m--> 824\u001B[1;33m         \u001B[1;32mreturn\u001B[0m \u001B[0mself\u001B[0m\u001B[1;33m.\u001B[0m\u001B[0mpartial_fit\u001B[0m\u001B[1;33m(\u001B[0m\u001B[0mX\u001B[0m\u001B[1;33m,\u001B[0m \u001B[0my\u001B[0m\u001B[1;33m,\u001B[0m \u001B[0msample_weight\u001B[0m\u001B[1;33m)\u001B[0m\u001B[1;33m\u001B[0m\u001B[1;33m\u001B[0m\u001B[0m\n\u001B[0m",
      "\u001B[1;32m~\\AppData\\Roaming\\Python\\Python310\\site-packages\\sklearn\\preprocessing\\_data.py\u001B[0m in \u001B[0;36m?\u001B[1;34m(self, X, y, sample_weight)\u001B[0m\n\u001B[0;32m    857\u001B[0m         \"\"\"\n\u001B[0;32m    858\u001B[0m         \u001B[0mself\u001B[0m\u001B[1;33m.\u001B[0m\u001B[0m_validate_params\u001B[0m\u001B[1;33m(\u001B[0m\u001B[1;33m)\u001B[0m\u001B[1;33m\u001B[0m\u001B[1;33m\u001B[0m\u001B[0m\n\u001B[0;32m    859\u001B[0m \u001B[1;33m\u001B[0m\u001B[0m\n\u001B[0;32m    860\u001B[0m         \u001B[0mfirst_call\u001B[0m \u001B[1;33m=\u001B[0m \u001B[1;32mnot\u001B[0m \u001B[0mhasattr\u001B[0m\u001B[1;33m(\u001B[0m\u001B[0mself\u001B[0m\u001B[1;33m,\u001B[0m \u001B[1;34m\"n_samples_seen_\"\u001B[0m\u001B[1;33m)\u001B[0m\u001B[1;33m\u001B[0m\u001B[1;33m\u001B[0m\u001B[0m\n\u001B[1;32m--> 861\u001B[1;33m         X = self._validate_data(\n\u001B[0m\u001B[0;32m    862\u001B[0m             \u001B[0mX\u001B[0m\u001B[1;33m,\u001B[0m\u001B[1;33m\u001B[0m\u001B[1;33m\u001B[0m\u001B[0m\n\u001B[0;32m    863\u001B[0m             \u001B[0maccept_sparse\u001B[0m\u001B[1;33m=\u001B[0m\u001B[1;33m(\u001B[0m\u001B[1;34m\"csr\"\u001B[0m\u001B[1;33m,\u001B[0m \u001B[1;34m\"csc\"\u001B[0m\u001B[1;33m)\u001B[0m\u001B[1;33m,\u001B[0m\u001B[1;33m\u001B[0m\u001B[1;33m\u001B[0m\u001B[0m\n\u001B[0;32m    864\u001B[0m             \u001B[0mdtype\u001B[0m\u001B[1;33m=\u001B[0m\u001B[0mFLOAT_DTYPES\u001B[0m\u001B[1;33m,\u001B[0m\u001B[1;33m\u001B[0m\u001B[1;33m\u001B[0m\u001B[0m\n",
      "\u001B[1;32m~\\AppData\\Roaming\\Python\\Python310\\site-packages\\sklearn\\base.py\u001B[0m in \u001B[0;36m?\u001B[1;34m(self, X, y, reset, validate_separately, **check_params)\u001B[0m\n\u001B[0;32m    561\u001B[0m \u001B[1;33m\u001B[0m\u001B[0m\n\u001B[0;32m    562\u001B[0m         \u001B[1;32mif\u001B[0m \u001B[0mno_val_X\u001B[0m \u001B[1;32mand\u001B[0m \u001B[0mno_val_y\u001B[0m\u001B[1;33m:\u001B[0m\u001B[1;33m\u001B[0m\u001B[1;33m\u001B[0m\u001B[0m\n\u001B[0;32m    563\u001B[0m             \u001B[1;32mraise\u001B[0m \u001B[0mValueError\u001B[0m\u001B[1;33m(\u001B[0m\u001B[1;34m\"Validation should be done on X, y or both.\"\u001B[0m\u001B[1;33m)\u001B[0m\u001B[1;33m\u001B[0m\u001B[1;33m\u001B[0m\u001B[0m\n\u001B[0;32m    564\u001B[0m         \u001B[1;32melif\u001B[0m \u001B[1;32mnot\u001B[0m \u001B[0mno_val_X\u001B[0m \u001B[1;32mand\u001B[0m \u001B[0mno_val_y\u001B[0m\u001B[1;33m:\u001B[0m\u001B[1;33m\u001B[0m\u001B[1;33m\u001B[0m\u001B[0m\n\u001B[1;32m--> 565\u001B[1;33m             \u001B[0mX\u001B[0m \u001B[1;33m=\u001B[0m \u001B[0mcheck_array\u001B[0m\u001B[1;33m(\u001B[0m\u001B[0mX\u001B[0m\u001B[1;33m,\u001B[0m \u001B[0minput_name\u001B[0m\u001B[1;33m=\u001B[0m\u001B[1;34m\"X\"\u001B[0m\u001B[1;33m,\u001B[0m \u001B[1;33m**\u001B[0m\u001B[0mcheck_params\u001B[0m\u001B[1;33m)\u001B[0m\u001B[1;33m\u001B[0m\u001B[1;33m\u001B[0m\u001B[0m\n\u001B[0m\u001B[0;32m    566\u001B[0m             \u001B[0mout\u001B[0m \u001B[1;33m=\u001B[0m \u001B[0mX\u001B[0m\u001B[1;33m\u001B[0m\u001B[1;33m\u001B[0m\u001B[0m\n\u001B[0;32m    567\u001B[0m         \u001B[1;32melif\u001B[0m \u001B[0mno_val_X\u001B[0m \u001B[1;32mand\u001B[0m \u001B[1;32mnot\u001B[0m \u001B[0mno_val_y\u001B[0m\u001B[1;33m:\u001B[0m\u001B[1;33m\u001B[0m\u001B[1;33m\u001B[0m\u001B[0m\n\u001B[0;32m    568\u001B[0m             \u001B[0my\u001B[0m \u001B[1;33m=\u001B[0m \u001B[0m_check_y\u001B[0m\u001B[1;33m(\u001B[0m\u001B[0my\u001B[0m\u001B[1;33m,\u001B[0m \u001B[1;33m**\u001B[0m\u001B[0mcheck_params\u001B[0m\u001B[1;33m)\u001B[0m\u001B[1;33m\u001B[0m\u001B[1;33m\u001B[0m\u001B[0m\n",
      "\u001B[1;32m~\\AppData\\Roaming\\Python\\Python310\\site-packages\\sklearn\\utils\\validation.py\u001B[0m in \u001B[0;36m?\u001B[1;34m(array, accept_sparse, accept_large_sparse, dtype, order, copy, force_all_finite, ensure_2d, allow_nd, ensure_min_samples, ensure_min_features, estimator, input_name)\u001B[0m\n\u001B[0;32m    876\u001B[0m                         )\n\u001B[0;32m    877\u001B[0m                     \u001B[0marray\u001B[0m \u001B[1;33m=\u001B[0m \u001B[0mxp\u001B[0m\u001B[1;33m.\u001B[0m\u001B[0mastype\u001B[0m\u001B[1;33m(\u001B[0m\u001B[0marray\u001B[0m\u001B[1;33m,\u001B[0m \u001B[0mdtype\u001B[0m\u001B[1;33m,\u001B[0m \u001B[0mcopy\u001B[0m\u001B[1;33m=\u001B[0m\u001B[1;32mFalse\u001B[0m\u001B[1;33m)\u001B[0m\u001B[1;33m\u001B[0m\u001B[1;33m\u001B[0m\u001B[0m\n\u001B[0;32m    878\u001B[0m                 \u001B[1;32melse\u001B[0m\u001B[1;33m:\u001B[0m\u001B[1;33m\u001B[0m\u001B[1;33m\u001B[0m\u001B[0m\n\u001B[0;32m    879\u001B[0m                     \u001B[0marray\u001B[0m \u001B[1;33m=\u001B[0m \u001B[0m_asarray_with_order\u001B[0m\u001B[1;33m(\u001B[0m\u001B[0marray\u001B[0m\u001B[1;33m,\u001B[0m \u001B[0morder\u001B[0m\u001B[1;33m=\u001B[0m\u001B[0morder\u001B[0m\u001B[1;33m,\u001B[0m \u001B[0mdtype\u001B[0m\u001B[1;33m=\u001B[0m\u001B[0mdtype\u001B[0m\u001B[1;33m,\u001B[0m \u001B[0mxp\u001B[0m\u001B[1;33m=\u001B[0m\u001B[0mxp\u001B[0m\u001B[1;33m)\u001B[0m\u001B[1;33m\u001B[0m\u001B[1;33m\u001B[0m\u001B[0m\n\u001B[1;32m--> 880\u001B[1;33m             \u001B[1;32mexcept\u001B[0m \u001B[0mComplexWarning\u001B[0m \u001B[1;32mas\u001B[0m \u001B[0mcomplex_warning\u001B[0m\u001B[1;33m:\u001B[0m\u001B[1;33m\u001B[0m\u001B[1;33m\u001B[0m\u001B[0m\n\u001B[0m\u001B[0;32m    881\u001B[0m                 raise ValueError(\n\u001B[0;32m    882\u001B[0m                     \u001B[1;34m\"Complex data not supported\\n{}\\n\"\u001B[0m\u001B[1;33m.\u001B[0m\u001B[0mformat\u001B[0m\u001B[1;33m(\u001B[0m\u001B[0marray\u001B[0m\u001B[1;33m)\u001B[0m\u001B[1;33m\u001B[0m\u001B[1;33m\u001B[0m\u001B[0m\n\u001B[0;32m    883\u001B[0m                 ) from complex_warning\n",
      "\u001B[1;32m~\\AppData\\Roaming\\Python\\Python310\\site-packages\\sklearn\\utils\\_array_api.py\u001B[0m in \u001B[0;36m?\u001B[1;34m(array, dtype, order, copy, xp)\u001B[0m\n\u001B[0;32m    181\u001B[0m     \u001B[1;32mif\u001B[0m \u001B[0mxp\u001B[0m \u001B[1;32mis\u001B[0m \u001B[1;32mNone\u001B[0m\u001B[1;33m:\u001B[0m\u001B[1;33m\u001B[0m\u001B[1;33m\u001B[0m\u001B[0m\n\u001B[0;32m    182\u001B[0m         \u001B[0mxp\u001B[0m\u001B[1;33m,\u001B[0m \u001B[0m_\u001B[0m \u001B[1;33m=\u001B[0m \u001B[0mget_namespace\u001B[0m\u001B[1;33m(\u001B[0m\u001B[0marray\u001B[0m\u001B[1;33m)\u001B[0m\u001B[1;33m\u001B[0m\u001B[1;33m\u001B[0m\u001B[0m\n\u001B[0;32m    183\u001B[0m     \u001B[1;32mif\u001B[0m \u001B[0mxp\u001B[0m\u001B[1;33m.\u001B[0m\u001B[0m__name__\u001B[0m \u001B[1;32min\u001B[0m \u001B[1;33m{\u001B[0m\u001B[1;34m\"numpy\"\u001B[0m\u001B[1;33m,\u001B[0m \u001B[1;34m\"numpy.array_api\"\u001B[0m\u001B[1;33m}\u001B[0m\u001B[1;33m:\u001B[0m\u001B[1;33m\u001B[0m\u001B[1;33m\u001B[0m\u001B[0m\n\u001B[0;32m    184\u001B[0m         \u001B[1;31m# Use NumPy API to support order\u001B[0m\u001B[1;33m\u001B[0m\u001B[1;33m\u001B[0m\u001B[0m\n\u001B[1;32m--> 185\u001B[1;33m         \u001B[0marray\u001B[0m \u001B[1;33m=\u001B[0m \u001B[0mnumpy\u001B[0m\u001B[1;33m.\u001B[0m\u001B[0masarray\u001B[0m\u001B[1;33m(\u001B[0m\u001B[0marray\u001B[0m\u001B[1;33m,\u001B[0m \u001B[0morder\u001B[0m\u001B[1;33m=\u001B[0m\u001B[0morder\u001B[0m\u001B[1;33m,\u001B[0m \u001B[0mdtype\u001B[0m\u001B[1;33m=\u001B[0m\u001B[0mdtype\u001B[0m\u001B[1;33m)\u001B[0m\u001B[1;33m\u001B[0m\u001B[1;33m\u001B[0m\u001B[0m\n\u001B[0m\u001B[0;32m    186\u001B[0m         \u001B[1;32mreturn\u001B[0m \u001B[0mxp\u001B[0m\u001B[1;33m.\u001B[0m\u001B[0masarray\u001B[0m\u001B[1;33m(\u001B[0m\u001B[0marray\u001B[0m\u001B[1;33m,\u001B[0m \u001B[0mcopy\u001B[0m\u001B[1;33m=\u001B[0m\u001B[0mcopy\u001B[0m\u001B[1;33m)\u001B[0m\u001B[1;33m\u001B[0m\u001B[1;33m\u001B[0m\u001B[0m\n\u001B[0;32m    187\u001B[0m     \u001B[1;32melse\u001B[0m\u001B[1;33m:\u001B[0m\u001B[1;33m\u001B[0m\u001B[1;33m\u001B[0m\u001B[0m\n\u001B[0;32m    188\u001B[0m         \u001B[1;32mreturn\u001B[0m \u001B[0mxp\u001B[0m\u001B[1;33m.\u001B[0m\u001B[0masarray\u001B[0m\u001B[1;33m(\u001B[0m\u001B[0marray\u001B[0m\u001B[1;33m,\u001B[0m \u001B[0mdtype\u001B[0m\u001B[1;33m=\u001B[0m\u001B[0mdtype\u001B[0m\u001B[1;33m,\u001B[0m \u001B[0mcopy\u001B[0m\u001B[1;33m=\u001B[0m\u001B[0mcopy\u001B[0m\u001B[1;33m)\u001B[0m\u001B[1;33m\u001B[0m\u001B[1;33m\u001B[0m\u001B[0m\n",
      "\u001B[1;32m~\\AppData\\Roaming\\Python\\Python310\\site-packages\\pandas\\core\\generic.py\u001B[0m in \u001B[0;36m?\u001B[1;34m(self, dtype)\u001B[0m\n\u001B[0;32m   2148\u001B[0m     \u001B[1;32mdef\u001B[0m \u001B[0m__array__\u001B[0m\u001B[1;33m(\u001B[0m\u001B[0mself\u001B[0m\u001B[1;33m,\u001B[0m \u001B[0mdtype\u001B[0m\u001B[1;33m:\u001B[0m \u001B[0mnpt\u001B[0m\u001B[1;33m.\u001B[0m\u001B[0mDTypeLike\u001B[0m \u001B[1;33m|\u001B[0m \u001B[1;32mNone\u001B[0m \u001B[1;33m=\u001B[0m \u001B[1;32mNone\u001B[0m\u001B[1;33m)\u001B[0m \u001B[1;33m->\u001B[0m \u001B[0mnp\u001B[0m\u001B[1;33m.\u001B[0m\u001B[0mndarray\u001B[0m\u001B[1;33m:\u001B[0m\u001B[1;33m\u001B[0m\u001B[1;33m\u001B[0m\u001B[0m\n\u001B[0;32m   2149\u001B[0m         \u001B[0mvalues\u001B[0m \u001B[1;33m=\u001B[0m \u001B[0mself\u001B[0m\u001B[1;33m.\u001B[0m\u001B[0m_values\u001B[0m\u001B[1;33m\u001B[0m\u001B[1;33m\u001B[0m\u001B[0m\n\u001B[1;32m-> 2150\u001B[1;33m         \u001B[0marr\u001B[0m \u001B[1;33m=\u001B[0m \u001B[0mnp\u001B[0m\u001B[1;33m.\u001B[0m\u001B[0masarray\u001B[0m\u001B[1;33m(\u001B[0m\u001B[0mvalues\u001B[0m\u001B[1;33m,\u001B[0m \u001B[0mdtype\u001B[0m\u001B[1;33m=\u001B[0m\u001B[0mdtype\u001B[0m\u001B[1;33m)\u001B[0m\u001B[1;33m\u001B[0m\u001B[1;33m\u001B[0m\u001B[0m\n\u001B[0m\u001B[0;32m   2151\u001B[0m         if (\n\u001B[0;32m   2152\u001B[0m             \u001B[0mastype_is_view\u001B[0m\u001B[1;33m(\u001B[0m\u001B[0mvalues\u001B[0m\u001B[1;33m.\u001B[0m\u001B[0mdtype\u001B[0m\u001B[1;33m,\u001B[0m \u001B[0marr\u001B[0m\u001B[1;33m.\u001B[0m\u001B[0mdtype\u001B[0m\u001B[1;33m)\u001B[0m\u001B[1;33m\u001B[0m\u001B[1;33m\u001B[0m\u001B[0m\n\u001B[0;32m   2153\u001B[0m             \u001B[1;32mand\u001B[0m \u001B[0musing_copy_on_write\u001B[0m\u001B[1;33m(\u001B[0m\u001B[1;33m)\u001B[0m\u001B[1;33m\u001B[0m\u001B[1;33m\u001B[0m\u001B[0m\n",
      "\u001B[1;31mValueError\u001B[0m: could not convert string to float: 'INFY.NS'"
     ]
    }
   ],
   "source": [
    "import pandas as pd\n",
    "from sklearn.preprocessing import StandardScaler\n",
    "from sklearn.cluster import DBSCAN\n",
    "\n",
    "# Scale the DataFrame\n",
    "scaler = StandardScaler()\n",
    "scaled_data = scaler.fit_transform(merged_df)\n",
    "\n",
    "# Apply DBSCAN\n",
    "dbscan = DBSCAN(eps=0.5, min_samples=2)  # Adjust eps and min_samples as needed\n",
    "clusters = dbscan.fit_predict(scaled_data)\n",
    "\n",
    "# Add cluster labels to the DataFrame\n",
    "merged_df['Cluster'] = clusters"
   ]
  },
  {
   "cell_type": "code",
   "execution_count": null,
   "metadata": {},
   "outputs": [],
   "source": [
    "merged_df"
   ]
  },
  {
   "cell_type": "code",
   "execution_count": null,
   "metadata": {},
   "outputs": [],
   "source": []
  }
 ],
 "metadata": {
  "kernelspec": {
   "display_name": "Python 3",
   "language": "python",
   "name": "python3"
  },
  "language_info": {
   "codemirror_mode": {
    "name": "ipython",
    "version": 3
   },
   "file_extension": ".py",
   "mimetype": "text/x-python",
   "name": "python",
   "nbconvert_exporter": "python",
   "pygments_lexer": "ipython3",
   "version": "3.10.11"
  }
 },
 "nbformat": 4,
 "nbformat_minor": 2
}
